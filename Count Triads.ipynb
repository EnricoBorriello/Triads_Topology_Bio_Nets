{
 "cells": [
  {
   "cell_type": "code",
   "execution_count": 2,
   "id": "d2c63f32",
   "metadata": {},
   "outputs": [],
   "source": [
    "import numpy as np\n",
    "from numpy import linalg as lin\n",
    "import random as rn\n",
    "from pyvis.network import Network"
   ]
  },
  {
   "cell_type": "code",
   "execution_count": 3,
   "id": "8cf02586",
   "metadata": {},
   "outputs": [],
   "source": [
    "def ER_adj_matrix(N,p):\n",
    "    A = np.zeros((N,N), dtype=int)\n",
    "    for i in range(N):\n",
    "        for j in range(i):\n",
    "            if rn.random() < p:\n",
    "                A[i][j] = 1\n",
    "                A[j][i] = 1\n",
    "    return A"
   ]
  },
  {
   "cell_type": "code",
   "execution_count": 4,
   "id": "41dda1dc",
   "metadata": {},
   "outputs": [],
   "source": [
    "# Given a matrix, we wont to extract only the symmetric, and non-zero components, i.e. aij > 0 such that aji = aij\n",
    "# we are assuming aij = 0,1 only\n",
    "\n",
    "def symmetric_components(matrix):\n",
    "    # First, we select its upper and lower triangles\n",
    "    Au = np.triu(matrix)\n",
    "    Al = np.tril(matrix)\n",
    "    # We now transpose Al\n",
    "    AlT = np.transpose(Al)\n",
    "    # we now only retain non-zero components in Au that are non-zero also in AlT\n",
    "    Su = np.multiply(Au,AlT) # this is the element-wise product\n",
    "    # we now build the result\n",
    "    As = Su + np.transpose(Su)\n",
    "    return As"
   ]
  },
  {
   "cell_type": "markdown",
   "id": "49141fd4",
   "metadata": {},
   "source": [
    "## Triad 1"
   ]
  },
  {
   "cell_type": "code",
   "execution_count": 5,
   "id": "686b20b4",
   "metadata": {},
   "outputs": [],
   "source": [
    "def triad_1(matrix):\n",
    "    A = matrix\n",
    "    AT = np.transpose(A)\n",
    "    t1 = np.sum(np.triu(np.dot(AT,A)))\n",
    "    return t1"
   ]
  },
  {
   "cell_type": "markdown",
   "id": "3b67787d",
   "metadata": {},
   "source": [
    "## Triad 4"
   ]
  },
  {
   "cell_type": "code",
   "execution_count": 6,
   "id": "75b5d25b",
   "metadata": {},
   "outputs": [],
   "source": [
    "def triad_4(matrix):\n",
    "    A = matrix\n",
    "    A2 = lin.matrix_power(A, 2)\n",
    "    D2 = np.diag(np.diag(A2))\n",
    "    As = symmetric_components(A)\n",
    "    t4 = np.sum(np.dot(A,D2)-As)\n",
    "    return t4"
   ]
  },
  {
   "cell_type": "markdown",
   "id": "fff58950",
   "metadata": {},
   "source": [
    "## Triad 5"
   ]
  },
  {
   "cell_type": "code",
   "execution_count": 7,
   "id": "21e8de07",
   "metadata": {},
   "outputs": [],
   "source": [
    "def triad_5(matrix):\n",
    "    A = matrix\n",
    "    AT = np.transpose(A)\n",
    "    A2 = lin.matrix_power(A, 2)\n",
    "    D2 = np.diag(np.diag(A2))\n",
    "    As = symmetric_components(A)\n",
    "    t5 = np.sum(np.dot(AT,D2)-As)\n",
    "    return t5"
   ]
  },
  {
   "cell_type": "markdown",
   "id": "4bb82866",
   "metadata": {},
   "source": [
    "## Triad 6"
   ]
  },
  {
   "cell_type": "code",
   "execution_count": 8,
   "id": "9ef2d229",
   "metadata": {},
   "outputs": [],
   "source": [
    "def triad_6(matrix):\n",
    "    A = matrix\n",
    "    A2 = lin.matrix_power(A, 2)\n",
    "    D2 = np.diag(np.diag(A2))\n",
    "    As = symmetric_components(A)\n",
    "    As2 = lin.matrix_power(As, 2)\n",
    "    t6 = np.sum(As2-D2)/2\n",
    "    return t6"
   ]
  },
  {
   "cell_type": "markdown",
   "id": "13cdd150",
   "metadata": {},
   "source": [
    "## Triad 7"
   ]
  },
  {
   "cell_type": "code",
   "execution_count": 9,
   "id": "35d7a4fb",
   "metadata": {},
   "outputs": [],
   "source": [
    "def triad_7(matrix):\n",
    "    A = matrix\n",
    "    A2 = lin.matrix_power(A, 2)\n",
    "    t7 = np.sum(np.multiply(A2,A))\n",
    "    return t7"
   ]
  },
  {
   "cell_type": "markdown",
   "id": "f07fcbb2",
   "metadata": {},
   "source": [
    "## Triad 8"
   ]
  },
  {
   "cell_type": "code",
   "execution_count": 10,
   "id": "43d771f9",
   "metadata": {},
   "outputs": [],
   "source": [
    "def triad_8(matrix):\n",
    "    A = matrix\n",
    "    A3 = lin.matrix_power(A, 3)\n",
    "    D3 = np.diag(np.diag(A3))\n",
    "    t8 = np.sum(D3)/3\n",
    "    return t8"
   ]
  },
  {
   "cell_type": "markdown",
   "id": "08daf499",
   "metadata": {},
   "source": [
    "## Triad 11"
   ]
  },
  {
   "cell_type": "code",
   "execution_count": 11,
   "id": "3c7505e1",
   "metadata": {},
   "outputs": [],
   "source": [
    "def triad_11(matrix):\n",
    "    A = matrix\n",
    "    As = symmetric_components(A)\n",
    "    A2 = lin.matrix_power(A, 2)\n",
    "    t11 = np.sum(np.multiply(A2,As))\n",
    "    return t11"
   ]
  },
  {
   "cell_type": "markdown",
   "id": "a0de6d49",
   "metadata": {},
   "source": [
    "## Triad 12"
   ]
  },
  {
   "cell_type": "code",
   "execution_count": 12,
   "id": "92e2af4a",
   "metadata": {},
   "outputs": [],
   "source": [
    "def triad_12(matrix):\n",
    "    A = matrix\n",
    "    As = symmetric_components(A)\n",
    "    As2 = lin.matrix_power(As, 2)\n",
    "    t12 = np.sum(np.multiply(As2,A))\n",
    "    return t12"
   ]
  },
  {
   "cell_type": "markdown",
   "id": "0ba78941",
   "metadata": {},
   "source": [
    "## Triad 13"
   ]
  },
  {
   "cell_type": "code",
   "execution_count": 13,
   "id": "f421dc5f",
   "metadata": {},
   "outputs": [],
   "source": [
    "def triad_13(matrix):\n",
    "    A = matrix\n",
    "    As = symmetric_components(A)\n",
    "    As3 = lin.matrix_power(As, 3)\n",
    "    t13 = np.trace(As3)/6\n",
    "    return t13"
   ]
  },
  {
   "cell_type": "markdown",
   "id": "b181b05d",
   "metadata": {},
   "source": [
    "## Examples"
   ]
  },
  {
   "cell_type": "code",
   "execution_count": 14,
   "id": "d476d616",
   "metadata": {},
   "outputs": [],
   "source": [
    "#example\n",
    "\n",
    "A = [\n",
    "    [0,1,1],\n",
    "    [1,0,1],\n",
    "    [1,1,0],\n",
    "]"
   ]
  },
  {
   "cell_type": "code",
   "execution_count": 105,
   "id": "a2bcfdc8",
   "metadata": {},
   "outputs": [],
   "source": [
    "A = ER_adj_matrix(300,.9)"
   ]
  },
  {
   "cell_type": "code",
   "execution_count": null,
   "id": "d3b428db",
   "metadata": {},
   "outputs": [],
   "source": [
    "\n",
    "    AT = np.transpose(A)\n",
    "    t1 = np.sum(np.triu(np.dot(AT,A)))"
   ]
  },
  {
   "cell_type": "code",
   "execution_count": 15,
   "id": "00c551b7",
   "metadata": {},
   "outputs": [
    {
     "name": "stdout",
     "output_type": "stream",
     "text": [
      "9\n",
      "6\n",
      "6\n",
      "3.0\n",
      "6\n",
      "6\n",
      "1.0\n"
     ]
    }
   ],
   "source": [
    "print(triad_1(A))\n",
    "print(triad_4(A))\n",
    "print(triad_5(A))\n",
    "print(triad_6(A))\n",
    "print(triad_11(A))\n",
    "print(triad_12(A))\n",
    "print(triad_13(A))"
   ]
  },
  {
   "cell_type": "code",
   "execution_count": 123,
   "id": "2bc64265",
   "metadata": {},
   "outputs": [],
   "source": [
    "A = [\n",
    "    [0, 1, 0, 0, 1],\n",
    "    [1, 0, 1, 0, 0],\n",
    "    [1, 1, 0, 1, 0],\n",
    "    [0, 1, 1, 0, 0],\n",
    "    [0, 1, 0, 0, 0]]"
   ]
  },
  {
   "cell_type": "code",
   "execution_count": 125,
   "id": "93cd5969",
   "metadata": {},
   "outputs": [
    {
     "name": "stdout",
     "output_type": "stream",
     "text": [
      "1.0\n"
     ]
    }
   ],
   "source": [
    "A = [\n",
    "    [0,1,1],\n",
    "    [1,0,1],\n",
    "    [1,1,0]\n",
    "]\n",
    "\n",
    "print(triad_6(A))"
   ]
  },
  {
   "cell_type": "code",
   "execution_count": 122,
   "id": "0909d28c",
   "metadata": {},
   "outputs": [
    {
     "name": "stdout",
     "output_type": "stream",
     "text": [
      "1.0\n"
     ]
    }
   ],
   "source": [
    "print(triad_13(A))"
   ]
  },
  {
   "cell_type": "code",
   "execution_count": 124,
   "id": "17d4e20a",
   "metadata": {},
   "outputs": [],
   "source": []
  },
  {
   "cell_type": "code",
   "execution_count": 128,
   "id": "00555a4c",
   "metadata": {},
   "outputs": [
    {
     "name": "stdout",
     "output_type": "stream",
     "text": [
      "3\n"
     ]
    }
   ],
   "source": [
    "A = [\n",
    "    [0,1,1],\n",
    "    [1,0,1],\n",
    "    [0,1,0]\n",
    "]\n",
    "\n",
    "print(triad_7(A))"
   ]
  },
  {
   "cell_type": "code",
   "execution_count": 127,
   "id": "488c67aa",
   "metadata": {},
   "outputs": [
    {
     "name": "stdout",
     "output_type": "stream",
     "text": [
      "7\n"
     ]
    }
   ],
   "source": [
    "A = [\n",
    "    [0, 1, 0, 0, 1],\n",
    "    [1, 0, 1, 0, 0],\n",
    "    [1, 1, 0, 1, 0],\n",
    "    [0, 1, 1, 0, 0],\n",
    "    [0, 1, 0, 0, 0]]\n",
    "\n",
    "print(triad_7(A))"
   ]
  },
  {
   "cell_type": "code",
   "execution_count": null,
   "id": "a3c7e732",
   "metadata": {},
   "outputs": [],
   "source": []
  }
 ],
 "metadata": {
  "kernelspec": {
   "display_name": "Python 3",
   "language": "python",
   "name": "python3"
  },
  "language_info": {
   "codemirror_mode": {
    "name": "ipython",
    "version": 3
   },
   "file_extension": ".py",
   "mimetype": "text/x-python",
   "name": "python",
   "nbconvert_exporter": "python",
   "pygments_lexer": "ipython3",
   "version": "3.9.0"
  }
 },
 "nbformat": 4,
 "nbformat_minor": 5
}
