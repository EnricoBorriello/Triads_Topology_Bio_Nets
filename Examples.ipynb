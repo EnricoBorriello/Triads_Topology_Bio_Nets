{
 "cells": [
  {
   "cell_type": "code",
   "execution_count": 15,
   "id": "b9da8c5f",
   "metadata": {},
   "outputs": [],
   "source": [
    "import numpy as np\n",
    "from numpy import linalg as lin\n",
    "import random as rn\n",
    "from pyvis.network import Network\n",
    "\n",
    "import matplotlib.pyplot as plt"
   ]
  },
  {
   "cell_type": "code",
   "execution_count": 16,
   "id": "39a31652",
   "metadata": {},
   "outputs": [],
   "source": [
    "import triad_utils as tu"
   ]
  },
  {
   "cell_type": "code",
   "execution_count": 17,
   "id": "34ba15b6",
   "metadata": {},
   "outputs": [],
   "source": [
    "matrix = [\n",
    " [0, 1, 0, 1, 0, 0, 1, 1],\n",
    " [1, 0, 0, 1, 0, 0, 1, 0],\n",
    " [1, 1, 0, 0, 0, 0, 0, 1],\n",
    " [1, 1, 0, 0, 0, 0, 0, 0],\n",
    " [1, 0, 1, 0, 0, 1, 1, 1],\n",
    " [0, 1, 1, 0, 0, 0, 0, 1],\n",
    " [0, 0, 0, 0, 0, 0, 0, 1],\n",
    " [0, 0, 1, 1, 0, 0, 0, 0]]"
   ]
  },
  {
   "cell_type": "code",
   "execution_count": 22,
   "id": "13ec4e92",
   "metadata": {},
   "outputs": [
    {
     "name": "stdout",
     "output_type": "stream",
     "text": [
      "triad_census(matrix)\n",
      "random_adj_matrix(N,p)\n",
      "edge_list(adjacency_matrix)\n",
      "adjacency_matrix(edge_list,size)\n",
      "swap_edges(edge_list)\n",
      "randomize(matrix,iterations)\n",
      "triad_significance_profile(matrix, ensemble_size, edge_randomizations):\n",
      "functions()\n",
      "\n"
     ]
    }
   ],
   "source": [
    "tu.functions()"
   ]
  },
  {
   "cell_type": "code",
   "execution_count": 26,
   "id": "a3a9cb9a",
   "metadata": {},
   "outputs": [],
   "source": [
    "matrix2 = tu.random_adj_matrix(500,.2)"
   ]
  },
  {
   "cell_type": "code",
   "execution_count": 27,
   "id": "73fcebdd",
   "metadata": {},
   "outputs": [
    {
     "data": {
      "text/plain": [
       "array([1019065, 1018812, 2039020,  506991,  506274,   62552,  509713,\n",
       "        170853,   63411,   63316,  125996,   31338,    1339])"
      ]
     },
     "execution_count": 27,
     "metadata": {},
     "output_type": "execute_result"
    }
   ],
   "source": [
    "c = tu.triad_census(matrix2)\n",
    "c"
   ]
  },
  {
   "cell_type": "code",
   "execution_count": 28,
   "id": "fc4461aa",
   "metadata": {},
   "outputs": [],
   "source": [
    "def filter_census(census):\n",
    "    N_tot = sum(census)\n",
    "    for i in range(13):\n",
    "        if census[i] < N_tot/100:\n",
    "            census[i] = 0\n",
    "    return census"
   ]
  },
  {
   "cell_type": "code",
   "execution_count": 30,
   "id": "80e1ffed",
   "metadata": {},
   "outputs": [
    {
     "data": {
      "text/plain": [
       "array([1019065, 1018812, 2039020,  506991,  506274,   62552,  509713,\n",
       "        170853,   63411,   63316,  125996,       0,       0])"
      ]
     },
     "execution_count": 30,
     "metadata": {},
     "output_type": "execute_result"
    }
   ],
   "source": [
    "filter_census(c)"
   ]
  },
  {
   "cell_type": "code",
   "execution_count": 5,
   "id": "24192a93",
   "metadata": {},
   "outputs": [],
   "source": [
    "n_edges = len(tu.edge_list(matrix))\n",
    "random_matrix = tu.randomize(matrix,10*n_edges)"
   ]
  },
  {
   "cell_type": "code",
   "execution_count": 6,
   "id": "0c5e0270",
   "metadata": {},
   "outputs": [
    {
     "data": {
      "text/plain": [
       "array([ 3,  5, 11,  3,  0,  1, 15,  3,  1,  2,  3,  0,  0])"
      ]
     },
     "execution_count": 6,
     "metadata": {},
     "output_type": "execute_result"
    }
   ],
   "source": [
    "tu.triad_census(random_matrix)"
   ]
  },
  {
   "cell_type": "code",
   "execution_count": 12,
   "id": "c35436b9",
   "metadata": {},
   "outputs": [],
   "source": [
    "ensemble_size = 100\n",
    "edge_rand_iterations = 100*len(tu.edge_list(matrix))\n",
    "r1 = tu.triad_significance_profile(matrix, ensemble_size, edge_rand_iterations)"
   ]
  },
  {
   "cell_type": "code",
   "execution_count": 13,
   "id": "57d29fec",
   "metadata": {},
   "outputs": [
    {
     "data": {
      "text/plain": [
       "[<matplotlib.lines.Line2D at 0x15fdd58b0>]"
      ]
     },
     "execution_count": 13,
     "metadata": {},
     "output_type": "execute_result"
    },
    {
     "data": {
      "image/png": "[encoded data removed]",
      "text/plain": [
       "<Figure size 432x288 with 1 Axes>"
      ]
     },
     "metadata": {
      "needs_background": "light"
     },
     "output_type": "display_data"
    }
   ],
   "source": [
    "t = np.arange(1,14)\n",
    "plt.plot(t,r)\n",
    "plt.plot(t,r1)\n",
    "#plt.plot(t,r2)\n",
    "#plt.plot(t,r3)\n",
    "#plt.plot(t,r4)\n",
    "plt.plot([0,14],[1,1],'--k')"
   ]
  },
  {
   "cell_type": "code",
   "execution_count": 14,
   "id": "ac360982",
   "metadata": {},
   "outputs": [
    {
     "name": "stdout",
     "output_type": "stream",
     "text": [
      "triad_census(matrix)\n",
      "random_adj_matrix(N,p)\n",
      "edge_list(adjacency_matrix)\n",
      "adjacency_matrix(edge_list,size)\n",
      "swap_edges(edge_list)\n",
      "randomize(matrix,iterations)\n",
      "triad_significance_profile(matrix, ensemble_size, edge_randomizations):\n",
      "functions()\n",
      "\n"
     ]
    }
   ],
   "source": [
    "tu.functions()"
   ]
  },
  {
   "cell_type": "code",
   "execution_count": null,
   "id": "c5e781d7",
   "metadata": {},
   "outputs": [],
   "source": []
  }
 ],
 "metadata": {
  "kernelspec": {
   "display_name": "Python 3",
   "language": "python",
   "name": "python3"
  },
  "language_info": {
   "codemirror_mode": {
    "name": "ipython",
    "version": 3
   },
   "file_extension": ".py",
   "mimetype": "text/x-python",
   "name": "python",
   "nbconvert_exporter": "python",
   "pygments_lexer": "ipython3",
   "version": "3.9.5"
  }
 },
 "nbformat": 4,
 "nbformat_minor": 5
}
