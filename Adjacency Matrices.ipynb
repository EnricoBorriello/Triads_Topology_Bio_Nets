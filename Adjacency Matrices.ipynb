{
 "cells": [
  {
   "cell_type": "code",
   "execution_count": 1,
   "id": "8d122684",
   "metadata": {},
   "outputs": [],
   "source": [
    "import numpy as np\n",
    "from numpy import linalg as lin\n",
    "\n",
    "def triad_census(matrix):\n",
    "    \n",
    "    A   = matrix\n",
    "    n   = len(A) \n",
    "    At  = np.transpose(A)\n",
    "    Ones = np.ones((n,n))\n",
    "\n",
    "    X  = np.multiply(Ones-A,Ones-At)\n",
    "    Y = np.multiply(A,At)\n",
    "    Z  = np.multiply(A,Ones-At)\n",
    "    Y2 = lin.matrix_power(Y,2)\n",
    "    Y3 = lin.matrix_power(Y,3)\n",
    "    \n",
    "    B = np.dot(At,A) -np.dot(Y,A) -np.dot(At,Y) +lin.matrix_power(Y ,2)\n",
    "    Bp = np.dot(A,At) -np.dot(Y,At) -np.dot(A,Y) +lin.matrix_power(Y ,2)\n",
    "    C = lin.matrix_power(A ,2) -np.dot(Y,A) -np.dot(A,Y) +lin.matrix_power(Y ,2)\n",
    "    D = np.dot(Y,At) -lin.matrix_power(Y ,2)\n",
    "    E = np.dot(Y,A) -lin.matrix_power(Y ,2)\n",
    "\n",
    "    t = np.zeros(13) \n",
    "# Triad 1\n",
    "    P1 = np.multiply(X,B)\n",
    "    t[0]  = (np.sum(P1)-np.trace(P1))/2   # t[0] is the count for triad 1, etc. \n",
    "# Triad 2\n",
    "    P2 = np.multiply(X,Bp)\n",
    "    t[1]  = (np.sum(P2)-np.trace(P2))/2  \n",
    "# Triad 3\n",
    "    P3 = np.multiply(X,C)\n",
    "    t[2] = np.sum(P3)-np.trace(P3)\n",
    "# Triad 4\n",
    "    P4 = np.multiply(X,D)\n",
    "    t[3] = np.sum(P4)-np.trace(P4)\n",
    "# Triad 5\n",
    "    P5 = np.multiply(X,E)\n",
    "    t[4] = np.sum(P5)-np.trace(P5)\n",
    "# Triad 6\n",
    "    P6 = np.multiply(X,Y2)\n",
    "    t[5] = (np.sum(P6)-np.trace(P6))/2\n",
    "# Triad 7\n",
    "    P7 = np.multiply(Z,C)\n",
    "    t[6] = np.sum(P7)   \n",
    "# Triad 8    \n",
    "    t[7] = np.trace(lin.matrix_power(Z,3))/3   \n",
    "# Triad 9\n",
    "    P9 = np.multiply(Y,B)\n",
    "    t[8] = np.sum(P9)/2\n",
    "# Triad 10\n",
    "    P10 = np.multiply(Y,Bp)\n",
    "    t[9] = np.sum(P10)/2\n",
    "# Triad 11   \n",
    "    P11 = np.multiply(Y,C)\n",
    "    t[10] = np.sum(P11)   \n",
    "# Triad 12   \n",
    "    P12 = np.multiply(Z,Y2)\n",
    "    t[11] = np.sum(P12)\n",
    "# Triad 13\n",
    "    t[12] = np.trace(Y3)/6\n",
    "\n",
    "    return t.astype(int)"
   ]
  },
  {
   "cell_type": "code",
   "execution_count": 3,
   "id": "1a6617fd",
   "metadata": {},
   "outputs": [],
   "source": [
    "# UNIX\n",
    "! rm net_names.txt\n",
    "#v1) ! ls database >> net_names.txt\n",
    "! ls matrices >> net_names.txt"
   ]
  },
  {
   "cell_type": "code",
   "execution_count": 4,
   "id": "0c66dfce",
   "metadata": {},
   "outputs": [],
   "source": [
    "import numpy as np\n",
    "import matplotlib.pyplot as plt\n",
    "import random as rn\n",
    "import pandas as pd"
   ]
  },
  {
   "cell_type": "code",
   "execution_count": 5,
   "id": "3bd6a896",
   "metadata": {},
   "outputs": [],
   "source": [
    "# NOTES\n",
    "# The input file 'Fanconi anemia and checkpoint recovery.txt'\n",
    "# was fixed manually, because the node 'DSB' is not formatted in a uniform way."
   ]
  },
  {
   "cell_type": "code",
   "execution_count": 6,
   "id": "c24a8059",
   "metadata": {},
   "outputs": [],
   "source": [
    "file = open('net_names.txt')\n",
    "net_names = [name.rstrip() for name in file]"
   ]
  },
  {
   "cell_type": "code",
   "execution_count": 7,
   "id": "f5328abb",
   "metadata": {
    "scrolled": true
   },
   "outputs": [
    {
     "data": {
      "text/plain": [
       "71"
      ]
     },
     "execution_count": 7,
     "metadata": {},
     "output_type": "execute_result"
    }
   ],
   "source": [
    "len(net_names)"
   ]
  },
  {
   "cell_type": "code",
   "execution_count": 8,
   "id": "2055376c",
   "metadata": {},
   "outputs": [],
   "source": [
    "profiles = []\n",
    "for net_num in range(len(net_names)):\n",
    "    matrix = np.loadtxt('matrices/'+net_names[net_num], dtype=int)\n",
    "    n = len(matrix)\n",
    "    for i in range(n):\n",
    "        matrix[i,i] = 0 # removal of self-loops\n",
    "    t = triad_census(matrix)\n",
    "    profiles.append(list(t))"
   ]
  },
  {
   "cell_type": "code",
   "execution_count": 9,
   "id": "9197da81",
   "metadata": {},
   "outputs": [],
   "source": [
    "df = pd.DataFrame(profiles)\n",
    "df.columns = ['t'+str(i) for i in range(1,14)]\n",
    "#df['network'] = [(net_names[i].rstrip('_adjacency.txt')) for i in range(len(net_names))]\n",
    "#df.set_index('network')\n",
    "df.to_csv('triads_count.csv')"
   ]
  },
  {
   "cell_type": "code",
   "execution_count": 10,
   "id": "8c9761da",
   "metadata": {},
   "outputs": [
    {
     "data": {
      "text/html": [
       "<div>\n",
       "<style scoped>\n",
       "    .dataframe tbody tr th:only-of-type {\n",
       "        vertical-align: middle;\n",
       "    }\n",
       "\n",
       "    .dataframe tbody tr th {\n",
       "        vertical-align: top;\n",
       "    }\n",
       "\n",
       "    .dataframe thead th {\n",
       "        text-align: right;\n",
       "    }\n",
       "</style>\n",
       "<table border=\"1\" class=\"dataframe\">\n",
       "  <thead>\n",
       "    <tr style=\"text-align: right;\">\n",
       "      <th></th>\n",
       "      <th>t1</th>\n",
       "      <th>t2</th>\n",
       "      <th>t3</th>\n",
       "      <th>t4</th>\n",
       "      <th>t5</th>\n",
       "      <th>t6</th>\n",
       "      <th>t7</th>\n",
       "      <th>t8</th>\n",
       "      <th>t9</th>\n",
       "      <th>t10</th>\n",
       "      <th>t11</th>\n",
       "      <th>t12</th>\n",
       "      <th>t13</th>\n",
       "    </tr>\n",
       "  </thead>\n",
       "  <tbody>\n",
       "    <tr>\n",
       "      <th>0</th>\n",
       "      <td>33</td>\n",
       "      <td>31</td>\n",
       "      <td>87</td>\n",
       "      <td>10</td>\n",
       "      <td>18</td>\n",
       "      <td>0</td>\n",
       "      <td>8</td>\n",
       "      <td>1</td>\n",
       "      <td>0</td>\n",
       "      <td>1</td>\n",
       "      <td>2</td>\n",
       "      <td>0</td>\n",
       "      <td>1</td>\n",
       "    </tr>\n",
       "    <tr>\n",
       "      <th>1</th>\n",
       "      <td>47</td>\n",
       "      <td>34</td>\n",
       "      <td>53</td>\n",
       "      <td>18</td>\n",
       "      <td>20</td>\n",
       "      <td>3</td>\n",
       "      <td>51</td>\n",
       "      <td>4</td>\n",
       "      <td>1</td>\n",
       "      <td>6</td>\n",
       "      <td>12</td>\n",
       "      <td>5</td>\n",
       "      <td>0</td>\n",
       "    </tr>\n",
       "    <tr>\n",
       "      <th>2</th>\n",
       "      <td>123</td>\n",
       "      <td>85</td>\n",
       "      <td>180</td>\n",
       "      <td>22</td>\n",
       "      <td>26</td>\n",
       "      <td>2</td>\n",
       "      <td>38</td>\n",
       "      <td>3</td>\n",
       "      <td>3</td>\n",
       "      <td>0</td>\n",
       "      <td>7</td>\n",
       "      <td>0</td>\n",
       "      <td>0</td>\n",
       "    </tr>\n",
       "    <tr>\n",
       "      <th>3</th>\n",
       "      <td>9</td>\n",
       "      <td>12</td>\n",
       "      <td>25</td>\n",
       "      <td>13</td>\n",
       "      <td>6</td>\n",
       "      <td>2</td>\n",
       "      <td>1</td>\n",
       "      <td>0</td>\n",
       "      <td>2</td>\n",
       "      <td>2</td>\n",
       "      <td>1</td>\n",
       "      <td>3</td>\n",
       "      <td>1</td>\n",
       "    </tr>\n",
       "    <tr>\n",
       "      <th>4</th>\n",
       "      <td>36</td>\n",
       "      <td>44</td>\n",
       "      <td>68</td>\n",
       "      <td>12</td>\n",
       "      <td>8</td>\n",
       "      <td>0</td>\n",
       "      <td>2</td>\n",
       "      <td>1</td>\n",
       "      <td>0</td>\n",
       "      <td>0</td>\n",
       "      <td>0</td>\n",
       "      <td>0</td>\n",
       "      <td>0</td>\n",
       "    </tr>\n",
       "  </tbody>\n",
       "</table>\n",
       "</div>"
      ],
      "text/plain": [
       "    t1  t2   t3  t4  t5  t6  t7  t8  t9  t10  t11  t12  t13\n",
       "0   33  31   87  10  18   0   8   1   0    1    2    0    1\n",
       "1   47  34   53  18  20   3  51   4   1    6   12    5    0\n",
       "2  123  85  180  22  26   2  38   3   3    0    7    0    0\n",
       "3    9  12   25  13   6   2   1   0   2    2    1    3    1\n",
       "4   36  44   68  12   8   0   2   1   0    0    0    0    0"
      ]
     },
     "execution_count": 10,
     "metadata": {},
     "output_type": "execute_result"
    }
   ],
   "source": [
    "df.head()"
   ]
  },
  {
   "cell_type": "code",
   "execution_count": 37,
   "id": "5ee7abb8",
   "metadata": {},
   "outputs": [],
   "source": [
    "norm_df = df.div(df.sum(axis=1), axis=0) "
   ]
  },
  {
   "cell_type": "code",
   "execution_count": 38,
   "id": "b6d628e1",
   "metadata": {},
   "outputs": [
    {
     "data": {
      "image/png": "[encoded data removed]",
      "text/plain": [
       "<Figure size 432x288 with 1 Axes>"
      ]
     },
     "metadata": {
      "needs_background": "light"
     },
     "output_type": "display_data"
    }
   ],
   "source": [
    "for i in range(len(norm_df)):\n",
    "    pr = norm_df.loc[i]\n",
    "    t = np.arange(1,14)\n",
    "    plt.plot(t,pr)"
   ]
  },
  {
   "cell_type": "code",
   "execution_count": 83,
   "id": "470a7fa4",
   "metadata": {},
   "outputs": [],
   "source": [
    "data = [ list(norm_df['t'+str(i+1)]) for i in range(13) ]"
   ]
  },
  {
   "cell_type": "code",
   "execution_count": 112,
   "id": "4ddadebf",
   "metadata": {},
   "outputs": [
    {
     "data": {
      "image/png": "[encoded data removed]",
      "text/plain": [
       "<Figure size 432x288 with 1 Axes>"
      ]
     },
     "metadata": {},
     "output_type": "display_data"
    }
   ],
   "source": [
    "import seaborn as sns\n",
    "\n",
    "seaborn.set(style='whitegrid')\n",
    "fmri = seaborn.load_dataset(\"fmri\")\n",
    "\n",
    "sns.set(style=\"darkgrid\")\n",
    "sns.boxplot(data,notch=False, linewidth=1)\n",
    "plt.ylim(0,1);"
   ]
  },
  {
   "cell_type": "code",
   "execution_count": 71,
   "id": "190bb70b",
   "metadata": {},
   "outputs": [
    {
     "data": {
      "image/png": "[encoded data removed]",
      "text/plain": [
       "<Figure size 432x288 with 1 Axes>"
      ]
     },
     "metadata": {
      "needs_background": "light"
     },
     "output_type": "display_data"
    }
   ],
   "source": [
    "m = norm_df.mean()\n",
    "s = norm_df.std()\n",
    "\n",
    "plt.plot(t,m,'k')\n",
    "plt.plot(t,m+s,'k--')\n",
    "plt.plot(t,m-s,'k--')\n",
    "plt.ylim(0,1);"
   ]
  },
  {
   "cell_type": "code",
   "execution_count": 24,
   "id": "b99a9137",
   "metadata": {
    "scrolled": true
   },
   "outputs": [
    {
     "data": {
      "text/plain": [
       "0     14.769231\n",
       "1     19.538462\n",
       "2     37.615385\n",
       "3      5.923077\n",
       "4     13.153846\n",
       "        ...    \n",
       "66    10.923077\n",
       "67    74.538462\n",
       "68     2.384615\n",
       "69     5.615385\n",
       "70    34.384615\n",
       "Length: 71, dtype: float64"
      ]
     },
     "execution_count": 24,
     "metadata": {},
     "output_type": "execute_result"
    }
   ],
   "source": [
    "df.mean(axis=1,numeric_only=True)"
   ]
  },
  {
   "cell_type": "markdown",
   "id": "7ded1b3e",
   "metadata": {},
   "source": [
    "# Random"
   ]
  },
  {
   "cell_type": "code",
   "execution_count": 14,
   "id": "b791eac3",
   "metadata": {},
   "outputs": [],
   "source": [
    "#random non symmetric with n, p\n",
    "def random_adj_matrix(N,p):\n",
    "    A = np.zeros((N,N), dtype=int)\n",
    "    for i in range(N):\n",
    "        for j in range(N):\n",
    "            if rn.random() < p and i!=j:\n",
    "                A[i][j] = 1\n",
    "    return A"
   ]
  },
  {
   "cell_type": "code",
   "execution_count": 15,
   "id": "daf2a803",
   "metadata": {},
   "outputs": [
    {
     "name": "stdout",
     "output_type": "stream",
     "text": [
      "0\n",
      "1\n",
      "2\n",
      "3\n",
      "4\n",
      "5\n",
      "6\n",
      "7\n",
      "8\n",
      "9\n",
      "10\n",
      "11\n",
      "12\n",
      "13\n",
      "14\n",
      "15\n",
      "16\n",
      "17\n",
      "18\n",
      "19\n",
      "20\n",
      "21\n",
      "22\n",
      "23\n",
      "24\n",
      "25\n",
      "26\n",
      "27\n",
      "28\n",
      "29\n",
      "30\n",
      "31\n",
      "32\n",
      "33\n",
      "34\n",
      "35\n",
      "36\n",
      "37\n",
      "38\n",
      "39\n",
      "40\n",
      "41\n",
      "42\n",
      "43\n",
      "44\n",
      "45\n",
      "46\n",
      "47\n",
      "48\n",
      "49\n",
      "50\n",
      "51\n",
      "52\n",
      "53\n",
      "54\n",
      "55\n",
      "56\n",
      "57\n",
      "58\n",
      "59\n",
      "60\n",
      "61\n",
      "62\n",
      "63\n",
      "64\n",
      "65\n",
      "66\n",
      "67\n",
      "68\n",
      "69\n",
      "70\n"
     ]
    }
   ],
   "source": [
    "rand_profiles_mean = []\n",
    "rand_profiles_std = []\n",
    "ensemble_size = 100\n",
    "\n",
    "for net_num in range(len(net_names)):\n",
    "    ensemble = []\n",
    "\n",
    "    matrix = np.loadtxt('matrices/'+net_names[net_num], dtype=int)\n",
    "    n = len(matrix)\n",
    "    for i in range(n):\n",
    "        matrix[i,i] = 0 # removal of self-loops\n",
    "    p = np.sum(matrix)/(n**2)\n",
    "\n",
    "    for _ in range(ensemble_size):\n",
    "        random_matrix = random_adj_matrix(n,p)\n",
    "        t = list(triad_census(random_matrix))\n",
    "        ensemble.append(t)\n",
    "\n",
    "    m = np.mean(ensemble,axis = 0)\n",
    "    s = np.std(ensemble,axis = 0)\n",
    "    \n",
    "    rand_profiles_mean.append(m)\n",
    "    rand_profiles_std.append(s)\n",
    "    \n",
    "    print(net_num)"
   ]
  },
  {
   "cell_type": "code",
   "execution_count": 16,
   "id": "53988644",
   "metadata": {},
   "outputs": [],
   "source": [
    "df_rand_mean = pd.DataFrame(rand_profiles_mean)\n",
    "df_rand_std  = pd.DataFrame(rand_profiles_std)"
   ]
  },
  {
   "cell_type": "code",
   "execution_count": 17,
   "id": "fcb510b6",
   "metadata": {},
   "outputs": [
    {
     "name": "stderr",
     "output_type": "stream",
     "text": [
      "<ipython-input-17-275d74438c9e>:15: RuntimeWarning: divide by zero encountered in double_scalars\n",
      "  result[i,j] = dij/sij\n"
     ]
    }
   ],
   "source": [
    "result = np.zeros((len(df),13))\n",
    "\n",
    "for i in range(len(df)):\n",
    "    for j in range(13):\n",
    "        \n",
    "        tij = np.array(df)[i,j]\n",
    "        rij = np.array(df_rand_mean)[i,j]\n",
    "        sij = np.array(df_rand_std)[i,j]\n",
    "        \n",
    "        dij = tij - rij\n",
    "        \n",
    "        if(dij == 0 and sij == 0):\n",
    "            result[i,j] = 1\n",
    "        else:\n",
    "            result[i,j] = dij/sij"
   ]
  },
  {
   "cell_type": "code",
   "execution_count": 18,
   "id": "9a1ed488",
   "metadata": {},
   "outputs": [],
   "source": [
    "df_result = pd.DataFrame(result)"
   ]
  },
  {
   "cell_type": "code",
   "execution_count": 19,
   "id": "17f90d3e",
   "metadata": {},
   "outputs": [
    {
     "data": {
      "text/html": [
       "<div>\n",
       "<style scoped>\n",
       "    .dataframe tbody tr th:only-of-type {\n",
       "        vertical-align: middle;\n",
       "    }\n",
       "\n",
       "    .dataframe tbody tr th {\n",
       "        vertical-align: top;\n",
       "    }\n",
       "\n",
       "    .dataframe thead th {\n",
       "        text-align: right;\n",
       "    }\n",
       "</style>\n",
       "<table border=\"1\" class=\"dataframe\">\n",
       "  <thead>\n",
       "    <tr style=\"text-align: right;\">\n",
       "      <th></th>\n",
       "      <th>0</th>\n",
       "      <th>1</th>\n",
       "      <th>2</th>\n",
       "      <th>3</th>\n",
       "      <th>4</th>\n",
       "      <th>5</th>\n",
       "      <th>6</th>\n",
       "      <th>7</th>\n",
       "      <th>8</th>\n",
       "      <th>9</th>\n",
       "      <th>10</th>\n",
       "      <th>11</th>\n",
       "      <th>12</th>\n",
       "    </tr>\n",
       "  </thead>\n",
       "  <tbody>\n",
       "    <tr>\n",
       "      <th>0</th>\n",
       "      <td>-1.474205</td>\n",
       "      <td>-1.597164</td>\n",
       "      <td>-0.649639</td>\n",
       "      <td>1.279062</td>\n",
       "      <td>3.248402</td>\n",
       "      <td>-0.239957</td>\n",
       "      <td>1.141147</td>\n",
       "      <td>-0.412717</td>\n",
       "      <td>-0.294884</td>\n",
       "      <td>3.000000</td>\n",
       "      <td>2.891399</td>\n",
       "      <td>-0.100504</td>\n",
       "      <td>inf</td>\n",
       "    </tr>\n",
       "    <tr>\n",
       "      <th>1</th>\n",
       "      <td>3.631661</td>\n",
       "      <td>1.434644</td>\n",
       "      <td>0.314662</td>\n",
       "      <td>-0.699141</td>\n",
       "      <td>-0.326657</td>\n",
       "      <td>-0.696705</td>\n",
       "      <td>2.826238</td>\n",
       "      <td>-0.984587</td>\n",
       "      <td>-1.815461</td>\n",
       "      <td>0.212320</td>\n",
       "      <td>0.270875</td>\n",
       "      <td>-0.015609</td>\n",
       "      <td>-0.484322</td>\n",
       "    </tr>\n",
       "    <tr>\n",
       "      <th>2</th>\n",
       "      <td>0.003841</td>\n",
       "      <td>-1.510913</td>\n",
       "      <td>-1.283660</td>\n",
       "      <td>1.050770</td>\n",
       "      <td>1.683293</td>\n",
       "      <td>2.200916</td>\n",
       "      <td>6.138657</td>\n",
       "      <td>-0.398562</td>\n",
       "      <td>4.053011</td>\n",
       "      <td>-0.498161</td>\n",
       "      <td>8.409862</td>\n",
       "      <td>-0.142857</td>\n",
       "      <td>1.000000</td>\n",
       "    </tr>\n",
       "    <tr>\n",
       "      <th>3</th>\n",
       "      <td>-1.685165</td>\n",
       "      <td>-1.091116</td>\n",
       "      <td>-1.243863</td>\n",
       "      <td>3.608730</td>\n",
       "      <td>0.861223</td>\n",
       "      <td>7.077214</td>\n",
       "      <td>-1.040071</td>\n",
       "      <td>-1.044074</td>\n",
       "      <td>4.644198</td>\n",
       "      <td>5.070399</td>\n",
       "      <td>1.021055</td>\n",
       "      <td>30.050631</td>\n",
       "      <td>inf</td>\n",
       "    </tr>\n",
       "    <tr>\n",
       "      <th>4</th>\n",
       "      <td>0.660421</td>\n",
       "      <td>1.331257</td>\n",
       "      <td>0.385037</td>\n",
       "      <td>1.581132</td>\n",
       "      <td>0.667646</td>\n",
       "      <td>-0.441836</td>\n",
       "      <td>-1.074383</td>\n",
       "      <td>-0.470871</td>\n",
       "      <td>-0.399475</td>\n",
       "      <td>-0.423547</td>\n",
       "      <td>-0.603267</td>\n",
       "      <td>-0.229416</td>\n",
       "      <td>1.000000</td>\n",
       "    </tr>\n",
       "    <tr>\n",
       "      <th>...</th>\n",
       "      <td>...</td>\n",
       "      <td>...</td>\n",
       "      <td>...</td>\n",
       "      <td>...</td>\n",
       "      <td>...</td>\n",
       "      <td>...</td>\n",
       "      <td>...</td>\n",
       "      <td>...</td>\n",
       "      <td>...</td>\n",
       "      <td>...</td>\n",
       "      <td>...</td>\n",
       "      <td>...</td>\n",
       "      <td>...</td>\n",
       "    </tr>\n",
       "    <tr>\n",
       "      <th>66</th>\n",
       "      <td>-0.586443</td>\n",
       "      <td>-1.528605</td>\n",
       "      <td>-1.088365</td>\n",
       "      <td>0.759419</td>\n",
       "      <td>0.466831</td>\n",
       "      <td>0.542218</td>\n",
       "      <td>1.929480</td>\n",
       "      <td>-0.547176</td>\n",
       "      <td>3.229168</td>\n",
       "      <td>-0.485247</td>\n",
       "      <td>2.600650</td>\n",
       "      <td>-0.229416</td>\n",
       "      <td>1.000000</td>\n",
       "    </tr>\n",
       "    <tr>\n",
       "      <th>67</th>\n",
       "      <td>0.043729</td>\n",
       "      <td>-1.431808</td>\n",
       "      <td>-1.340315</td>\n",
       "      <td>0.525038</td>\n",
       "      <td>2.974766</td>\n",
       "      <td>3.516588</td>\n",
       "      <td>0.476376</td>\n",
       "      <td>-0.972598</td>\n",
       "      <td>0.803442</td>\n",
       "      <td>5.567974</td>\n",
       "      <td>3.590732</td>\n",
       "      <td>7.382620</td>\n",
       "      <td>21.285714</td>\n",
       "    </tr>\n",
       "    <tr>\n",
       "      <th>68</th>\n",
       "      <td>-1.384656</td>\n",
       "      <td>1.501546</td>\n",
       "      <td>1.020257</td>\n",
       "      <td>-0.476149</td>\n",
       "      <td>-0.430594</td>\n",
       "      <td>-0.175863</td>\n",
       "      <td>-0.764964</td>\n",
       "      <td>-0.506972</td>\n",
       "      <td>-0.175863</td>\n",
       "      <td>-0.100504</td>\n",
       "      <td>-0.229416</td>\n",
       "      <td>1.000000</td>\n",
       "      <td>1.000000</td>\n",
       "    </tr>\n",
       "    <tr>\n",
       "      <th>69</th>\n",
       "      <td>-1.088085</td>\n",
       "      <td>4.609760</td>\n",
       "      <td>-0.245014</td>\n",
       "      <td>-0.050297</td>\n",
       "      <td>-0.087370</td>\n",
       "      <td>-0.142857</td>\n",
       "      <td>-0.727882</td>\n",
       "      <td>-0.466252</td>\n",
       "      <td>1.000000</td>\n",
       "      <td>-0.217072</td>\n",
       "      <td>-0.175863</td>\n",
       "      <td>1.000000</td>\n",
       "      <td>1.000000</td>\n",
       "    </tr>\n",
       "    <tr>\n",
       "      <th>70</th>\n",
       "      <td>4.911449</td>\n",
       "      <td>5.213096</td>\n",
       "      <td>-1.837126</td>\n",
       "      <td>2.026847</td>\n",
       "      <td>-0.385487</td>\n",
       "      <td>-0.204124</td>\n",
       "      <td>2.668548</td>\n",
       "      <td>0.726848</td>\n",
       "      <td>-0.175863</td>\n",
       "      <td>-0.142857</td>\n",
       "      <td>2.844452</td>\n",
       "      <td>1.000000</td>\n",
       "      <td>1.000000</td>\n",
       "    </tr>\n",
       "  </tbody>\n",
       "</table>\n",
       "<p>71 rows × 13 columns</p>\n",
       "</div>"
      ],
      "text/plain": [
       "          0         1         2         3         4         5         6   \\\n",
       "0  -1.474205 -1.597164 -0.649639  1.279062  3.248402 -0.239957  1.141147   \n",
       "1   3.631661  1.434644  0.314662 -0.699141 -0.326657 -0.696705  2.826238   \n",
       "2   0.003841 -1.510913 -1.283660  1.050770  1.683293  2.200916  6.138657   \n",
       "3  -1.685165 -1.091116 -1.243863  3.608730  0.861223  7.077214 -1.040071   \n",
       "4   0.660421  1.331257  0.385037  1.581132  0.667646 -0.441836 -1.074383   \n",
       "..       ...       ...       ...       ...       ...       ...       ...   \n",
       "66 -0.586443 -1.528605 -1.088365  0.759419  0.466831  0.542218  1.929480   \n",
       "67  0.043729 -1.431808 -1.340315  0.525038  2.974766  3.516588  0.476376   \n",
       "68 -1.384656  1.501546  1.020257 -0.476149 -0.430594 -0.175863 -0.764964   \n",
       "69 -1.088085  4.609760 -0.245014 -0.050297 -0.087370 -0.142857 -0.727882   \n",
       "70  4.911449  5.213096 -1.837126  2.026847 -0.385487 -0.204124  2.668548   \n",
       "\n",
       "          7         8         9         10         11         12  \n",
       "0  -0.412717 -0.294884  3.000000  2.891399  -0.100504        inf  \n",
       "1  -0.984587 -1.815461  0.212320  0.270875  -0.015609  -0.484322  \n",
       "2  -0.398562  4.053011 -0.498161  8.409862  -0.142857   1.000000  \n",
       "3  -1.044074  4.644198  5.070399  1.021055  30.050631        inf  \n",
       "4  -0.470871 -0.399475 -0.423547 -0.603267  -0.229416   1.000000  \n",
       "..       ...       ...       ...       ...        ...        ...  \n",
       "66 -0.547176  3.229168 -0.485247  2.600650  -0.229416   1.000000  \n",
       "67 -0.972598  0.803442  5.567974  3.590732   7.382620  21.285714  \n",
       "68 -0.506972 -0.175863 -0.100504 -0.229416   1.000000   1.000000  \n",
       "69 -0.466252  1.000000 -0.217072 -0.175863   1.000000   1.000000  \n",
       "70  0.726848 -0.175863 -0.142857  2.844452   1.000000   1.000000  \n",
       "\n",
       "[71 rows x 13 columns]"
      ]
     },
     "execution_count": 19,
     "metadata": {},
     "output_type": "execute_result"
    }
   ],
   "source": [
    "df_result"
   ]
  },
  {
   "cell_type": "code",
   "execution_count": 20,
   "id": "a2671c30",
   "metadata": {},
   "outputs": [
    {
     "data": {
      "image/png": "[encoded data removed]",
      "text/plain": [
       "<Figure size 432x288 with 1 Axes>"
      ]
     },
     "metadata": {
      "needs_background": "light"
     },
     "output_type": "display_data"
    }
   ],
   "source": [
    "for i in range(len(df_result)):\n",
    "    pr = np.array(df_result.loc[i])[:13]\n",
    "    t = np.arange(1,14)\n",
    "    plt.plot(t,pr)"
   ]
  },
  {
   "cell_type": "code",
   "execution_count": null,
   "id": "3b629dff",
   "metadata": {},
   "outputs": [],
   "source": []
  }
 ],
 "metadata": {
  "kernelspec": {
   "display_name": "Python 3",
   "language": "python",
   "name": "python3"
  },
  "language_info": {
   "codemirror_mode": {
    "name": "ipython",
    "version": 3
   },
   "file_extension": ".py",
   "mimetype": "text/x-python",
   "name": "python",
   "nbconvert_exporter": "python",
   "pygments_lexer": "ipython3",
   "version": "3.9.5"
  }
 },
 "nbformat": 4,
 "nbformat_minor": 5
}
