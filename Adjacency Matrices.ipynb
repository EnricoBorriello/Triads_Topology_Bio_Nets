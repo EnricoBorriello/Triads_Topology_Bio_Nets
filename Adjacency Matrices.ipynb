{
 "cells": [
  {
   "cell_type": "code",
   "execution_count": 1,
   "id": "8d122684",
   "metadata": {},
   "outputs": [],
   "source": [
    "# UNIX\n",
    "! rm net_names.txt\n",
    "! ls database >> net_names.txt"
   ]
  },
  {
   "cell_type": "code",
   "execution_count": 430,
   "id": "62822319",
   "metadata": {},
   "outputs": [],
   "source": [
    "import numpy as np\n",
    "import matplotlib.pyplot as plt\n",
    "import random as rn"
   ]
  },
  {
   "cell_type": "code",
   "execution_count": 2,
   "id": "3bd6a896",
   "metadata": {},
   "outputs": [],
   "source": [
    "# NOTES\n",
    "# The input file 'Fanconi anemia and checkpoint recovery.txt'\n",
    "# was fixed manually, because the node 'DSB' is not formatted in a uniform way."
   ]
  },
  {
   "cell_type": "code",
   "execution_count": 3,
   "id": "c24a8059",
   "metadata": {},
   "outputs": [],
   "source": [
    "file = open('net_names.txt')\n",
    "net_names = [name.rstrip() for name in file]"
   ]
  },
  {
   "cell_type": "code",
   "execution_count": 729,
   "id": "9733a2d9",
   "metadata": {},
   "outputs": [],
   "source": [
    "# here I'm selecting the network\n",
    "\n",
    "network = 'database/'+net_names[45]\n",
    "\n",
    "file = open(network)\n",
    "file_content = [line.rstrip() for line in file]"
   ]
  },
  {
   "cell_type": "code",
   "execution_count": 730,
   "id": "b98a1b0c",
   "metadata": {},
   "outputs": [
    {
     "data": {
      "text/plain": [
       "25"
      ]
     },
     "execution_count": 730,
     "metadata": {},
     "output_type": "execute_result"
    }
   ],
   "source": [
    "clean_file = [line for line in file_content if line[0]=='#']\n",
    "node_names = clean_file[0][3:].split(' ')\n",
    "input_nodes = [line[2:] for line in clean_file[1:]]\n",
    "n = len(node_names)\n",
    "\n",
    "n"
   ]
  },
  {
   "cell_type": "code",
   "execution_count": 731,
   "id": "b85261cd",
   "metadata": {
    "scrolled": true
   },
   "outputs": [
    {
     "data": {
      "text/plain": [
       "['AKT',\n",
       " 'BAX',\n",
       " 'cJUN',\n",
       " 'cRAF',\n",
       " 'CyclinB1',\n",
       " 'CyclinD1',\n",
       " 'ERBB1',\n",
       " 'ERBB2',\n",
       " 'ERBB3',\n",
       " 'ERK1_2',\n",
       " 'FoxO1_3a',\n",
       " 'GSKa_b',\n",
       " 'Nfkb',\n",
       " 'p38',\n",
       " 'p53',\n",
       " 'p70S6K',\n",
       " 'PRAS',\n",
       " 'PTEN',\n",
       " 'RB',\n",
       " 'RPS6',\n",
       " 'TSC2',\n",
       " 'pertuzumab',\n",
       " 'stimulus',\n",
       " 'erlotinib',\n",
       " 'trastuzumab']"
      ]
     },
     "execution_count": 731,
     "metadata": {},
     "output_type": "execute_result"
    }
   ],
   "source": [
    "node_names"
   ]
  },
  {
   "cell_type": "code",
   "execution_count": 732,
   "id": "c00aab38",
   "metadata": {},
   "outputs": [],
   "source": [
    "sorted_node_names = list(sorted(node_names, key = len, reverse = True))"
   ]
  },
  {
   "cell_type": "markdown",
   "id": "4de3d92e",
   "metadata": {},
   "source": [
    "We are sorting the node names according to their length, and in reverse order, \n",
    "because some names might be included in other names (e.g. IL2 in IL21).\n",
    "By replacing IL2 with a number, e.g. 5,  we would turn IL21 into 21"
   ]
  },
  {
   "cell_type": "code",
   "execution_count": 733,
   "id": "699ade84",
   "metadata": {},
   "outputs": [
    {
     "data": {
      "text/plain": [
       "['AKT (AKT, CyclinB1, ERBB1, ERBB2, ERBB3, PTEN, stimulus, AKT)',\n",
       " 'BAX (BAX, ERBB1, BAX)',\n",
       " 'cJUN (GSKa_b, cJUN, cJUN)',\n",
       " 'cRAF (ERBB1, ERBB2, ERK1_2, RPS6, cRAF, p53, cRAF)',\n",
       " 'CyclinB1 (CyclinB1, p53, p70S6K, CyclinB1)',\n",
       " 'CyclinD1 (AKT, CyclinD1, ERK1_2, GSKa_b, PTEN, cJUN, CyclinD1)',\n",
       " 'ERBB1 (ERBB1, erlotinib, pertuzumab, stimulus, ERBB1)',\n",
       " 'ERBB2 (BAX, ERBB2, erlotinib, pertuzumab, stimulus, trastuzumab, ERBB2)',\n",
       " 'ERBB3 (AKT, ERBB3, erlotinib, pertuzumab, stimulus, ERBB3)',\n",
       " 'ERK1_2 (CyclinB1, ERBB1, ERK1_2, cRAF, ERK1_2)',\n",
       " 'FoxO1_3a (AKT, FoxO1_3a, FoxO1_3a)',\n",
       " 'GSKa_b (GSKa_b, p53, GSKa_b)',\n",
       " 'Nfkb (ERBB3, Nfkb, RPS6, Nfkb)',\n",
       " 'p38 (AKT, p38, p38)',\n",
       " 'p53 (CyclinB1, PTEN, RB, p53, p53)',\n",
       " 'p70S6K (ERBB2, ERK1_2, PRAS, TSC2, p70S6K, p70S6K)',\n",
       " 'PRAS (AKT, ERBB3, PRAS, PRAS)',\n",
       " 'PTEN (GSKa_b, PTEN, p70S6K, PTEN)',\n",
       " 'RB (CyclinD1, ERBB2, RB, TSC2, p53, RB)',\n",
       " 'RPS6 (RPS6, p70S6K, RPS6)',\n",
       " 'TSC2 (AKT, ERBB2, ERK1_2, GSKa_b, TSC2, TSC2)']"
      ]
     },
     "execution_count": 733,
     "metadata": {},
     "output_type": "execute_result"
    }
   ],
   "source": [
    "input_nodes"
   ]
  },
  {
   "cell_type": "code",
   "execution_count": 734,
   "id": "071740f3",
   "metadata": {},
   "outputs": [],
   "source": [
    "input_nodes_labels = []\n",
    "\n",
    "for line in input_nodes:\n",
    "    for i in range(n):\n",
    "        line = line.replace(sorted_node_names[i],str(i))\n",
    "    input_nodes_labels.append(line)"
   ]
  },
  {
   "cell_type": "code",
   "execution_count": 735,
   "id": "08001823",
   "metadata": {},
   "outputs": [
    {
     "data": {
      "text/plain": [
       "['20 (20, 3, 10, 11, 12, 17, 6, 20)',\n",
       " '21 (21, 10, 21)',\n",
       " '13 (8, 13, 13)',\n",
       " '14 (10, 11, 7, 18, 14, 23, 14)',\n",
       " '3 (3, 23, 9, 3)',\n",
       " '4 (20, 4, 7, 8, 17, 13, 4)',\n",
       " '10 (10, 2, 1, 6, 10)',\n",
       " '11 (21, 11, 2, 1, 6, 0, 11)',\n",
       " '12 (20, 12, 2, 1, 6, 12)',\n",
       " '7 (3, 10, 7, 14, 7)',\n",
       " '5 (20, 5, 5)',\n",
       " '8 (8, 23, 8)',\n",
       " '15 (12, 15, 18, 15)',\n",
       " '22 (20, 22, 22)',\n",
       " '23 (3, 17, 24, 23, 23)',\n",
       " '9 (11, 7, 16, 19, 9, 9)',\n",
       " '16 (20, 12, 16, 16)',\n",
       " '17 (8, 17, 9, 17)',\n",
       " '24 (4, 11, 24, 19, 23, 24)',\n",
       " '18 (18, 9, 18)',\n",
       " '19 (20, 11, 7, 8, 19, 19)']"
      ]
     },
     "execution_count": 735,
     "metadata": {},
     "output_type": "execute_result"
    }
   ],
   "source": [
    "input_nodes_labels"
   ]
  },
  {
   "cell_type": "code",
   "execution_count": 736,
   "id": "526e374f",
   "metadata": {},
   "outputs": [],
   "source": [
    "edge_list = []\n",
    "\n",
    "for line in input_nodes_labels:\n",
    "    formatted_line =  line.replace(' ','').replace(')','').split('(')\n",
    "    output = formatted_line[0]\n",
    "    inputs = formatted_line[1].split(',')\n",
    "    for i in inputs:\n",
    "        if i != output: # I'm removing self-loops, as the motif code doesn't account for them\n",
    "            edge_list.append([i,output,'directed',1])\n",
    "#print(edge_list)"
   ]
  },
  {
   "cell_type": "code",
   "execution_count": 737,
   "id": "4cf6c45a",
   "metadata": {},
   "outputs": [],
   "source": [
    "import networkx as nx\n",
    "import pandas as pd\n",
    "import pyvis\n",
    "from pyvis.network import Network\n",
    "\n",
    "# https://towardsdatascience.com/visualizing-networks-in-python-d70f4cbeb259"
   ]
  },
  {
   "cell_type": "code",
   "execution_count": 738,
   "id": "05933ab2",
   "metadata": {},
   "outputs": [
    {
     "data": {
      "text/html": [
       "<div>\n",
       "<style scoped>\n",
       "    .dataframe tbody tr th:only-of-type {\n",
       "        vertical-align: middle;\n",
       "    }\n",
       "\n",
       "    .dataframe tbody tr th {\n",
       "        vertical-align: top;\n",
       "    }\n",
       "\n",
       "    .dataframe thead th {\n",
       "        text-align: right;\n",
       "    }\n",
       "</style>\n",
       "<table border=\"1\" class=\"dataframe\">\n",
       "  <thead>\n",
       "    <tr style=\"text-align: right;\">\n",
       "      <th></th>\n",
       "      <th>Source</th>\n",
       "      <th>Target</th>\n",
       "      <th>Type</th>\n",
       "      <th>weight</th>\n",
       "    </tr>\n",
       "  </thead>\n",
       "  <tbody>\n",
       "    <tr>\n",
       "      <th>0</th>\n",
       "      <td>3</td>\n",
       "      <td>20</td>\n",
       "      <td>directed</td>\n",
       "      <td>1</td>\n",
       "    </tr>\n",
       "    <tr>\n",
       "      <th>1</th>\n",
       "      <td>10</td>\n",
       "      <td>20</td>\n",
       "      <td>directed</td>\n",
       "      <td>1</td>\n",
       "    </tr>\n",
       "    <tr>\n",
       "      <th>2</th>\n",
       "      <td>11</td>\n",
       "      <td>20</td>\n",
       "      <td>directed</td>\n",
       "      <td>1</td>\n",
       "    </tr>\n",
       "  </tbody>\n",
       "</table>\n",
       "</div>"
      ],
      "text/plain": [
       "  Source Target      Type  weight\n",
       "0      3     20  directed       1\n",
       "1     10     20  directed       1\n",
       "2     11     20  directed       1"
      ]
     },
     "execution_count": 738,
     "metadata": {},
     "output_type": "execute_result"
    }
   ],
   "source": [
    "df = pd.DataFrame(edge_list,columns=['Source','Target','Type','weight'])\n",
    "df[:3]"
   ]
  },
  {
   "cell_type": "code",
   "execution_count": 739,
   "id": "29990bdf",
   "metadata": {},
   "outputs": [],
   "source": [
    "G = nx.from_pandas_edgelist(df,source='Source',target='Target',edge_attr = 'weight')\n",
    "net = Network(notebook = True, directed = True)\n",
    "net.from_nx(G)"
   ]
  },
  {
   "cell_type": "code",
   "execution_count": 740,
   "id": "229995f0",
   "metadata": {},
   "outputs": [
    {
     "data": {
      "text/html": [
       "\n",
       "        <iframe\n",
       "            width=\"500px\"\n",
       "            height=\"500px\"\n",
       "            src=\"example.html\"\n",
       "            frameborder=\"0\"\n",
       "            allowfullscreen\n",
       "        ></iframe>\n",
       "        "
      ],
      "text/plain": [
       "<IPython.lib.display.IFrame at 0x7fc28eaf7130>"
      ]
     },
     "execution_count": 740,
     "metadata": {},
     "output_type": "execute_result"
    }
   ],
   "source": [
    "net.show(\"example.html\")"
   ]
  },
  {
   "cell_type": "code",
   "execution_count": 741,
   "id": "b6b6a2ed",
   "metadata": {},
   "outputs": [],
   "source": [
    "# I keep finding zero motifs with Milo's code.\n",
    "# I need to make Shade's code run, and see if the result changes."
   ]
  },
  {
   "cell_type": "code",
   "execution_count": 742,
   "id": "d1ec577f",
   "metadata": {},
   "outputs": [
    {
     "data": {
      "text/plain": [
       "array([20, 20, 20, 20, 20, 20, 21, 13, 14, 14, 14, 14, 14,  3,  3,  4,  4,\n",
       "        4,  4,  4, 10, 10, 10, 11, 11, 11, 11, 11, 12, 12, 12, 12,  7,  7,\n",
       "        7,  5,  8, 15, 15, 22, 23, 23, 23,  9,  9,  9,  9, 16, 16, 17, 17,\n",
       "       24, 24, 24, 24, 18, 19, 19, 19, 19])"
      ]
     },
     "execution_count": 742,
     "metadata": {},
     "output_type": "execute_result"
    }
   ],
   "source": [
    "np.array(df['Source']).astype(int)\n",
    "np.array(df['Target']).astype(int)"
   ]
  },
  {
   "cell_type": "code",
   "execution_count": 743,
   "id": "e28ccffc",
   "metadata": {},
   "outputs": [],
   "source": [
    "A = np.zeros((n,n))"
   ]
  },
  {
   "cell_type": "code",
   "execution_count": 744,
   "id": "503076fd",
   "metadata": {},
   "outputs": [],
   "source": [
    "for k in range(len(df)):\n",
    "    i = (np.array(df['Source']).astype(int))[k]\n",
    "    j = (np.array(df['Target']).astype(int))[k]\n",
    "    A[i][j] = 1\n",
    "\n",
    "for i in range(len(A)):\n",
    "    A[i][i] = 0"
   ]
  },
  {
   "cell_type": "code",
   "execution_count": 745,
   "id": "0a8a220d",
   "metadata": {},
   "outputs": [
    {
     "data": {
      "text/plain": [
       "array([[0., 0., 0., 0., 0., 0., 0., 0., 0., 0., 0., 1., 0., 0., 0., 0.,\n",
       "        0., 0., 0., 0., 0., 0., 0., 0., 0.],\n",
       "       [0., 0., 0., 0., 0., 0., 0., 0., 0., 0., 1., 1., 1., 0., 0., 0.,\n",
       "        0., 0., 0., 0., 0., 0., 0., 0., 0.],\n",
       "       [0., 0., 0., 0., 0., 0., 0., 0., 0., 0., 1., 1., 1., 0., 0., 0.,\n",
       "        0., 0., 0., 0., 0., 0., 0., 0., 0.],\n",
       "       [0., 0., 0., 0., 0., 0., 0., 1., 0., 0., 0., 0., 0., 0., 0., 0.,\n",
       "        0., 0., 0., 0., 1., 0., 0., 1., 0.],\n",
       "       [0., 0., 0., 0., 0., 0., 0., 0., 0., 0., 0., 0., 0., 0., 0., 0.,\n",
       "        0., 0., 0., 0., 0., 0., 0., 0., 1.],\n",
       "       [0., 0., 0., 0., 0., 0., 0., 0., 0., 0., 0., 0., 0., 0., 0., 0.,\n",
       "        0., 0., 0., 0., 0., 0., 0., 0., 0.],\n",
       "       [0., 0., 0., 0., 0., 0., 0., 0., 0., 0., 1., 1., 1., 0., 0., 0.,\n",
       "        0., 0., 0., 0., 1., 0., 0., 0., 0.],\n",
       "       [0., 0., 0., 0., 1., 0., 0., 0., 0., 1., 0., 0., 0., 0., 1., 0.,\n",
       "        0., 0., 0., 1., 0., 0., 0., 0., 0.],\n",
       "       [0., 0., 0., 0., 1., 0., 0., 0., 0., 0., 0., 0., 0., 1., 0., 0.,\n",
       "        0., 1., 0., 1., 0., 0., 0., 0., 0.],\n",
       "       [0., 0., 0., 1., 0., 0., 0., 0., 0., 0., 0., 0., 0., 0., 0., 0.,\n",
       "        0., 1., 1., 0., 0., 0., 0., 0., 0.],\n",
       "       [0., 0., 0., 0., 0., 0., 0., 1., 0., 0., 0., 0., 0., 0., 1., 0.,\n",
       "        0., 0., 0., 0., 1., 1., 0., 0., 0.],\n",
       "       [0., 0., 0., 0., 0., 0., 0., 0., 0., 1., 0., 0., 0., 0., 1., 0.,\n",
       "        0., 0., 0., 1., 1., 0., 0., 0., 1.],\n",
       "       [0., 0., 0., 0., 0., 0., 0., 0., 0., 0., 0., 0., 0., 0., 0., 1.,\n",
       "        1., 0., 0., 0., 1., 0., 0., 0., 0.],\n",
       "       [0., 0., 0., 0., 1., 0., 0., 0., 0., 0., 0., 0., 0., 0., 0., 0.,\n",
       "        0., 0., 0., 0., 0., 0., 0., 0., 0.],\n",
       "       [0., 0., 0., 0., 0., 0., 0., 1., 0., 0., 0., 0., 0., 0., 0., 0.,\n",
       "        0., 0., 0., 0., 0., 0., 0., 0., 0.],\n",
       "       [0., 0., 0., 0., 0., 0., 0., 0., 0., 0., 0., 0., 0., 0., 0., 0.,\n",
       "        0., 0., 0., 0., 0., 0., 0., 0., 0.],\n",
       "       [0., 0., 0., 0., 0., 0., 0., 0., 0., 1., 0., 0., 0., 0., 0., 0.,\n",
       "        0., 0., 0., 0., 0., 0., 0., 0., 0.],\n",
       "       [0., 0., 0., 0., 1., 0., 0., 0., 0., 0., 0., 0., 0., 0., 0., 0.,\n",
       "        0., 0., 0., 0., 1., 0., 0., 1., 0.],\n",
       "       [0., 0., 0., 0., 0., 0., 0., 0., 0., 0., 0., 0., 0., 0., 1., 1.,\n",
       "        0., 0., 0., 0., 0., 0., 0., 0., 0.],\n",
       "       [0., 0., 0., 0., 0., 0., 0., 0., 0., 1., 0., 0., 0., 0., 0., 0.,\n",
       "        0., 0., 0., 0., 0., 0., 0., 0., 1.],\n",
       "       [0., 0., 0., 0., 1., 1., 0., 0., 0., 0., 0., 0., 1., 0., 0., 0.,\n",
       "        1., 0., 0., 1., 0., 0., 1., 0., 0.],\n",
       "       [0., 0., 0., 0., 0., 0., 0., 0., 0., 0., 0., 1., 0., 0., 0., 0.,\n",
       "        0., 0., 0., 0., 0., 0., 0., 0., 0.],\n",
       "       [0., 0., 0., 0., 0., 0., 0., 0., 0., 0., 0., 0., 0., 0., 0., 0.,\n",
       "        0., 0., 0., 0., 0., 0., 0., 0., 0.],\n",
       "       [0., 0., 0., 1., 0., 0., 0., 0., 1., 0., 0., 0., 0., 0., 1., 0.,\n",
       "        0., 0., 0., 0., 0., 0., 0., 0., 1.],\n",
       "       [0., 0., 0., 0., 0., 0., 0., 0., 0., 0., 0., 0., 0., 0., 0., 0.,\n",
       "        0., 0., 0., 0., 0., 0., 0., 1., 0.]])"
      ]
     },
     "execution_count": 745,
     "metadata": {},
     "output_type": "execute_result"
    }
   ],
   "source": [
    "A"
   ]
  },
  {
   "cell_type": "code",
   "execution_count": 746,
   "id": "cb51c00a",
   "metadata": {},
   "outputs": [],
   "source": [
    "import numpy as np\n",
    "from numpy import linalg as lin\n",
    "\n",
    "def symmetric_components(matrix):\n",
    "    # First, we select its upper and lower triangles\n",
    "    Au = np.triu(matrix)\n",
    "    Al = np.tril(matrix)\n",
    "    # We now transpose Al\n",
    "    AlT = np.transpose(Al)\n",
    "    # we now only retain non-zero components in Au that are non-zero also in AlT\n",
    "    Su = np.multiply(Au,AlT) # this is the element-wise product\n",
    "    # we now build the result\n",
    "    As = Su + np.transpose(Su)\n",
    "    return As\n",
    "\n",
    "def triad_census(matrix):\n",
    "    \n",
    "    A = matrix\n",
    "    AT = np.transpose(A)\n",
    "    ATA = np.dot(AT,A)\n",
    "    AAT = np.dot(A,AT)    \n",
    "    A2 = lin.matrix_power(A, 2)\n",
    "    D2 = np.diag(np.diag(A2))\n",
    "    As = symmetric_components(A)    \n",
    "    As2 = lin.matrix_power(As, 2)    \n",
    "    A3 = lin.matrix_power(A, 3)\n",
    "    D3 = np.diag(np.diag(A3))   \n",
    "    As3 = lin.matrix_power(As, 3)\n",
    "    \n",
    "    t = np.zeros(13) # t[0] is the count for triad 1, etc.\n",
    "    t[0] = (np.sum(ATA) - np.trace(ATA))/2\n",
    "    t[1] = (np.sum(AAT) - np.trace(AAT))/2\n",
    "    t[2] = np.sum(A2)-np.trace(A2)\n",
    "    t[3] = np.sum(np.dot(A,D2)-As)\n",
    "    t[4] = np.sum(np.dot(AT,D2)-As)\n",
    "    t[5] = np.sum(As2-D2)/2\n",
    "    t[6] = np.sum(np.multiply(A2,A))\n",
    "    t[7] = np.sum(D3)/3\n",
    "    t[8] = np.sum((np.multiply(ATA,As)))/2\n",
    "    t[9] = np.sum((np.multiply(AAT,As)))/2\n",
    "    t[10] = np.sum(np.multiply(A2,As))\n",
    "    t[11] = np.sum(np.multiply(As2,A))\n",
    "    t[12] = np.trace(As3)/6\n",
    "    \n",
    "    return t.astype(int)"
   ]
  },
  {
   "cell_type": "code",
   "execution_count": 747,
   "id": "c37126e4",
   "metadata": {},
   "outputs": [
    {
     "data": {
      "text/plain": [
       "array([ 75,  82, 157,  22,  18,   1,  15,   2,   2,   1,   0,   0,   0])"
      ]
     },
     "execution_count": 747,
     "metadata": {},
     "output_type": "execute_result"
    }
   ],
   "source": [
    "triad_census(A)"
   ]
  },
  {
   "cell_type": "code",
   "execution_count": 750,
   "id": "a07b538f",
   "metadata": {},
   "outputs": [],
   "source": [
    "Net_num6_with_16nodes = [39, 44, 69,  9,  5,  0, 14,  0,  1,  1,  0,  0,  0]\n",
    "Net_num0_with_67nodes = [144, 123, 280,  27,  22,   1,  18,   1,   1,   2,   1,   0,   0]\n",
    "# Net_num1_with_91nodes --> BUG\n",
    "# Net_num4_with_22nodes --> BUG\n",
    "# Net_num11_with_188nodes --> BUG\n",
    "# Net_num20_with_104nodes --> BUG\n",
    "# Net_num21_with_247nodes --> BUG\n",
    "# Net_num31_with_138nodes --> BUG\n",
    "# Net_num34_with_131nodes --> BUG\n",
    "# Net_num35_with_23nodes --> WEIRD BUG!\n",
    "# Net_num39_with_12nodes --> SEEMS FIXABLE\n",
    "# Net_num41_with_62nodes --> SEEMS FIXABLE\n",
    "# Net_num42_with_15nodes --> SEEMS FIXABLE\n",
    "Net_num2_with_41nodes = [ 66,  55, 140,  18,  28,   3,  18,   5,   3,   4,   8,   6,   1]\n",
    "Net_num3_with_53nodes = [199, 160, 306,  39,  37,   2,  51,  10,   3,   0,   7,   0,   0]\n",
    "Net_num5_with_25nodes = [46, 58, 93, 12,  8,  0,  2,  1,  0,  0,  0,  0,  0]\n",
    "Net_num6_with_16nodes = [39, 44, 69,  9,  5,  0, 14,  0,  1,  1,  0,  0,  0]\n",
    "Net_num7_with_17nodes = [25, 17, 39,  0,  0,  0,  4,  2,  0,  0,  0,  0,  0]\n",
    "Net_num8_with_33nodes = [121,  81, 159,  19,  20,   1,  32,   6,   2,   0,   3,   0,   0]\n",
    "Net_num32_with_118nodes = [305, 178, 408,   7,  12,   0,  21,   1,   0,   0,   0,   0,   0]\n",
    "Net_num33_with_86nodes = [255, 139, 333,  14,  27,   1,  38,   3,   2,   6,   4,   1,   0]\n",
    "Net_num36_with_13nodes = [10, 18, 35,  0,  0,  0,  3,  0,  0,  0,  0,  0,  0]\n",
    "Net_num37_with_10nodes = [43, 46, 82, 39, 39,  9, 29, 10,  5,  5, 12,  3,  0]\n",
    "Net_num38_with_20nodes = [ 58,  61, 130,  23,  14,   2,  21,   2,   1,   0,   1,   0,   0]\n",
    "Net_num40_with_19nodes = [26, 17, 48,  7,  2,  0,  4,  2,  1,  0,  0,  0,  0]\n",
    "Net_num43_with_26nodes = [112, 137, 226,  67,  53,  12,  58,  12,   7,   7,  14,   5,   0]\n",
    "Net_num44_with_24nodes = [ 7, 19, 29,  0,  0,  0,  0,  0,  0,  0,  0,  0,  0]\n",
    "Net_num45_with_25nodes = [ 75,  82, 157,  22,  18,   1,  15,   2,   2,   1,   0,   0,   0]"
   ]
  },
  {
   "cell_type": "code",
   "execution_count": 751,
   "id": "69473a10",
   "metadata": {},
   "outputs": [],
   "source": [
    "profiles = [\n",
    "    Net_num45_with_25nodes,\n",
    "    Net_num44_with_24nodes,\n",
    "    Net_num43_with_26nodes,\n",
    "    Net_num40_with_19nodes,\n",
    "    Net_num38_with_20nodes,\n",
    "    Net_num37_with_10nodes,\n",
    "    Net_num36_with_13nodes,\n",
    "    Net_num33_with_86nodes,\n",
    "    Net_num32_with_118nodes,\n",
    "    Net_num3_with_53nodes,\n",
    "    Net_num2_with_41nodes,\n",
    "    Net_num6_with_16nodes,\n",
    "    Net_num0_with_67nodes,\n",
    "    Net_num5_with_25nodes,\n",
    "    Net_num6_with_16nodes,\n",
    "    Net_num7_with_17nodes,\n",
    "    Net_num8_with_33nodes\n",
    "]"
   ]
  },
  {
   "cell_type": "code",
   "execution_count": 753,
   "id": "51e8818d",
   "metadata": {},
   "outputs": [
    {
     "data": {
      "image/png": "[encoded data removed]",
      "text/plain": [
       "<Figure size 432x288 with 1 Axes>"
      ]
     },
     "metadata": {
      "needs_background": "light"
     },
     "output_type": "display_data"
    }
   ],
   "source": [
    "for i in range(len(profiles)):\n",
    "    t = np.arange(1,14)\n",
    "    plt.plot(t,profiles[i]/np.sum(profiles[i]))"
   ]
  },
  {
   "cell_type": "code",
   "execution_count": 647,
   "id": "98a514c7",
   "metadata": {},
   "outputs": [],
   "source": [
    "#random non symmetric with n, p\n",
    "def random_adj_matrix(N,p):\n",
    "    A = np.zeros((N,N), dtype=int)\n",
    "    for i in range(N):\n",
    "        for j in range(N):\n",
    "            if rn.random() < p and i!=j:\n",
    "                A[i][j] = 1\n",
    "    return A"
   ]
  },
  {
   "cell_type": "code",
   "execution_count": 648,
   "id": "8ff65bab",
   "metadata": {},
   "outputs": [
    {
     "data": {
      "text/plain": [
       "0.09064327485380116"
      ]
     },
     "execution_count": 648,
     "metadata": {},
     "output_type": "execute_result"
    }
   ],
   "source": [
    "p = np.sum(A)/(n**2-n)\n",
    "p"
   ]
  },
  {
   "cell_type": "code",
   "execution_count": 649,
   "id": "d0769d84",
   "metadata": {},
   "outputs": [
    {
     "data": {
      "text/plain": [
       "array([[31., 22., 60.,  0.,  0.,  0.,  6.,  3.,  0.,  0.,  0.,  0.,  0.],\n",
       "       [17., 24., 44.,  6.,  5.,  0.,  1.,  4.,  0.,  0.,  0.,  0.,  0.],\n",
       "       [25., 32., 59.,  5.,  5.,  0.,  3.,  4.,  0.,  0.,  1.,  0.,  0.],\n",
       "       [40., 39., 83.,  7.,  7.,  0., 12.,  3.,  1.,  0.,  2.,  0.,  0.],\n",
       "       [21., 14., 40., 10., 15.,  1.,  4.,  1.,  0.,  1.,  1.,  0.,  0.],\n",
       "       [26., 20., 31.,  1.,  5.,  0.,  4.,  0.,  0.,  0.,  0.,  0.,  0.],\n",
       "       [12., 11., 20.,  1.,  7.,  0.,  1.,  0.,  0.,  0.,  0.,  0.,  0.],\n",
       "       [32., 40., 57.,  0.,  0.,  0.,  6.,  0.,  0.,  0.,  0.,  0.,  0.],\n",
       "       [43., 36., 88., 14., 13.,  1., 13.,  6.,  2.,  0.,  1.,  0.,  0.],\n",
       "       [18., 11., 31.,  0.,  0.,  0.,  3.,  0.,  0.,  0.,  0.,  0.,  0.]])"
      ]
     },
     "execution_count": 649,
     "metadata": {},
     "output_type": "execute_result"
    }
   ],
   "source": [
    "R = np.zeros((10,13))\n",
    "for i in range(10):\n",
    "    B = random_adj_matrix(n,p)\n",
    "    R[i]=triad_census(B)\n",
    "R"
   ]
  },
  {
   "cell_type": "code",
   "execution_count": 650,
   "id": "ad18424b",
   "metadata": {},
   "outputs": [],
   "source": [
    "Rmean = np.mean(R,axis=0)"
   ]
  },
  {
   "cell_type": "code",
   "execution_count": 651,
   "id": "e7e1d4f2",
   "metadata": {},
   "outputs": [
    {
     "name": "stderr",
     "output_type": "stream",
     "text": [
      "<ipython-input-651-1857170aae0a>:1: RuntimeWarning: invalid value encountered in true_divide\n",
      "  result = np.nan_to_num(triad_census(A)/Rmean, nan=0)\n"
     ]
    },
    {
     "data": {
      "text/plain": [
       "array([0.98113208, 0.68273092, 0.93567251, 1.59090909, 0.35087719,\n",
       "       0.        , 0.75471698, 0.95238095, 3.33333333, 0.        ,\n",
       "       0.        , 0.        , 0.        ])"
      ]
     },
     "execution_count": 651,
     "metadata": {},
     "output_type": "execute_result"
    }
   ],
   "source": [
    "result = np.nan_to_num(triad_census(A)/Rmean, nan=0)\n",
    "result"
   ]
  },
  {
   "cell_type": "code",
   "execution_count": 652,
   "id": "923b0462",
   "metadata": {},
   "outputs": [
    {
     "data": {
      "text/plain": [
       "[<matplotlib.lines.Line2D at 0x7fc2908bf460>]"
      ]
     },
     "execution_count": 652,
     "metadata": {},
     "output_type": "execute_result"
    },
    {
     "data": {
      "image/png": "[encoded data removed]",
      "text/plain": [
       "<Figure size 432x288 with 1 Axes>"
      ]
     },
     "metadata": {
      "needs_background": "light"
     },
     "output_type": "display_data"
    }
   ],
   "source": [
    "plt.plot(t,result)"
   ]
  },
  {
   "cell_type": "code",
   "execution_count": null,
   "id": "00fa58fe",
   "metadata": {},
   "outputs": [],
   "source": []
  }
 ],
 "metadata": {
  "kernelspec": {
   "display_name": "Python 3",
   "language": "python",
   "name": "python3"
  },
  "language_info": {
   "codemirror_mode": {
    "name": "ipython",
    "version": 3
   },
   "file_extension": ".py",
   "mimetype": "text/x-python",
   "name": "python",
   "nbconvert_exporter": "python",
   "pygments_lexer": "ipython3",
   "version": "3.9.0"
  }
 },
 "nbformat": 4,
 "nbformat_minor": 5
}
