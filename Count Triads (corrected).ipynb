{
 "cells": [
  {
   "cell_type": "code",
   "execution_count": 14,
   "id": "d2c63f32",
   "metadata": {},
   "outputs": [],
   "source": [
    "import numpy as np\n",
    "from numpy import linalg as lin\n",
    "import random as rn\n",
    "from pyvis.network import Network\n",
    "\n",
    "import matplotlib.pyplot as plt"
   ]
  },
  {
   "cell_type": "code",
   "execution_count": 15,
   "id": "7473a812",
   "metadata": {},
   "outputs": [],
   "source": [
    "#random non symmetric with n, p\n",
    "def random_adj_matrix(N,p):\n",
    "    A = np.zeros((N,N), dtype=int)\n",
    "    for i in range(N):\n",
    "        for j in range(N):\n",
    "            if rn.random() < p and i!=j:\n",
    "                A[i][j] = 1\n",
    "    return A"
   ]
  },
  {
   "cell_type": "code",
   "execution_count": 16,
   "id": "c495044d",
   "metadata": {},
   "outputs": [],
   "source": [
    "def symm_matrix(matrix):\n",
    "    A = matrix\n",
    "    return (A + np.transpose(A))/2"
   ]
  },
  {
   "cell_type": "markdown",
   "id": "be4b6327",
   "metadata": {},
   "source": [
    "## Triads (corrected) 1, 2, 9, 10"
   ]
  },
  {
   "cell_type": "code",
   "execution_count": 17,
   "id": "82c5dde5",
   "metadata": {},
   "outputs": [],
   "source": [
    "matrix = [\n",
    " [0, 1, 0, 1, 0, 0, 1, 1],\n",
    " [1, 0, 0, 1, 0, 0, 1, 0],\n",
    " [1, 1, 0, 0, 0, 0, 0, 1],\n",
    " [1, 1, 0, 0, 0, 0, 0, 0],\n",
    " [1, 0, 0, 0, 0, 1, 1, 1],\n",
    " [0, 1, 0, 0, 0, 0, 0, 1],\n",
    " [0, 0, 0, 0, 0, 0, 0, 1],\n",
    " [0, 0, 1, 1, 0, 0, 0, 0]]"
   ]
  },
  {
   "cell_type": "code",
   "execution_count": 18,
   "id": "4026b97b",
   "metadata": {},
   "outputs": [],
   "source": [
    "d4 = [\n",
    "    [0,1,0,1,1],\n",
    "    [1,0,0,1,0],\n",
    "    [0,1,0,0,1],\n",
    "    [0,0,1,0,0],\n",
    "    [1,1,0,0,0]\n",
    "]"
   ]
  },
  {
   "cell_type": "code",
   "execution_count": 19,
   "id": "3c01c6db",
   "metadata": {},
   "outputs": [],
   "source": [
    "A1  = [[0,0,0],[0,0,0],[1,1,0]]\n",
    "A2  = [[0,0,1],[0,0,1],[0,0,0]]\n",
    "A3  = [[0,0,1],[0,0,0],[0,1,0]]\n",
    "A4  = [[0,0,1],[0,0,1],[1,0,0]]\n",
    "A5  = [[0,0,1],[0,0,0],[1,1,0]]\n",
    "A6  = [[0,0,1],[0,0,1],[1,1,0]]\n",
    "A7  = [[0,1,1],[0,0,0],[0,1,0]]\n",
    "A8  = [[0,1,0],[0,0,1],[1,0,0]]\n",
    "A9  = [[0,1,0],[1,0,0],[1,1,0]]\n",
    "A10 = [[0,1,1],[1,0,1],[0,0,0]]\n",
    "A11 = [[0,1,1],[1,0,0],[0,1,0]]\n",
    "A12 = [[0,1,1],[0,0,1],[1,1,0]]\n",
    "A13 = [[0,1,1],[1,0,1],[1,1,0]]"
   ]
  },
  {
   "cell_type": "code",
   "execution_count": 20,
   "id": "28373bfa",
   "metadata": {
    "scrolled": true
   },
   "outputs": [
    {
     "data": {
      "text/html": [
       "\n",
       "        <iframe\n",
       "            width=\"500px\"\n",
       "            height=\"500px\"\n",
       "            src=\"network.html\"\n",
       "            frameborder=\"0\"\n",
       "            allowfullscreen\n",
       "        ></iframe>\n",
       "        "
      ],
      "text/plain": [
       "<IPython.lib.display.IFrame at 0x1604a5910>"
      ]
     },
     "execution_count": 20,
     "metadata": {},
     "output_type": "execute_result"
    }
   ],
   "source": [
    "#A = random_adj_matrix(4,.5)\n",
    "A = d4\n",
    "\n",
    "g = Network(notebook = True, directed=True)\n",
    "\n",
    "for i in range(len(A)):\n",
    "    g.add_node(i,size=10,color='black')\n",
    "for i in range(len(A)):\n",
    "    for j in range(len(A)):\n",
    "        if A[i][j] == 1:\n",
    "            g.add_edge(i, j)\n",
    "g.show(\"network.html\")"
   ]
  },
  {
   "cell_type": "code",
   "execution_count": 106,
   "id": "55b3a8f6",
   "metadata": {},
   "outputs": [],
   "source": [
    "def triad1(matrix):\n",
    "\n",
    "    A = matrix\n",
    "    n   = len(A)\n",
    "    At  = np.transpose(A)\n",
    "    Ones = np.ones((n,n))\n",
    "\n",
    "    X  = np.multiply(Ones-A,Ones-At)\n",
    "    Y = np.multiply(A,At)\n",
    "    B = np.dot(At,A) -np.dot(Y,A) -np.dot(At,Y)+  lin.matrix_power(Y ,2)\n",
    "\n",
    "    P = np.multiply(X,B)\n",
    "\n",
    "    return (np.sum(P)-np.trace(P))/2"
   ]
  },
  {
   "cell_type": "code",
   "execution_count": 107,
   "id": "7150e0ea",
   "metadata": {},
   "outputs": [],
   "source": [
    "def triad2(matrix):\n",
    "    return triad1(np.transpose(matrix))"
   ]
  },
  {
   "cell_type": "code",
   "execution_count": 108,
   "id": "3aeba5f3",
   "metadata": {},
   "outputs": [],
   "source": [
    "def triad3(matrix):\n",
    "\n",
    "    A = matrix\n",
    "\n",
    "    n   = len(A)\n",
    "    At  = np.transpose(A)\n",
    "    Ones = np.ones((n,n))\n",
    "\n",
    "    X  = np.multiply(Ones-A,Ones-At)\n",
    "    Y = np.multiply(A,At)\n",
    "    C = lin.matrix_power(A ,2) -np.dot(Y,A) -np.dot(A,Y)+  lin.matrix_power(Y ,2)\n",
    "\n",
    "    P = np.multiply(X,C)\n",
    "\n",
    "    return np.sum(P)-np.trace(P)"
   ]
  },
  {
   "cell_type": "code",
   "execution_count": 109,
   "id": "a8f71d39",
   "metadata": {},
   "outputs": [],
   "source": [
    "def triad4(matrix):\n",
    "\n",
    "    A = matrix\n",
    "\n",
    "    n   = len(A)\n",
    "    At  = np.transpose(A)\n",
    "    Ones = np.ones((n,n))\n",
    "\n",
    "    X  = np.multiply(Ones-A,Ones-At)\n",
    "    Y = np.multiply(A,At)\n",
    "    D = np.dot(Y,At) -lin.matrix_power(Y ,2)\n",
    "\n",
    "    P = np.multiply(X,D)\n",
    "\n",
    "    return np.sum(P)-np.trace(P)"
   ]
  },
  {
   "cell_type": "code",
   "execution_count": 110,
   "id": "be96ac0d",
   "metadata": {},
   "outputs": [],
   "source": [
    "def triad5(matrix):\n",
    "\n",
    "    A = matrix\n",
    "\n",
    "    n   = len(A)\n",
    "    At  = np.transpose(A)\n",
    "    Ones = np.ones((n,n))\n",
    "\n",
    "    X  = np.multiply(Ones-A,Ones-At)\n",
    "    Y = np.multiply(A,At)\n",
    "    E = np.dot(Y,A) -lin.matrix_power(Y ,2)\n",
    "\n",
    "    P = np.multiply(X,E)\n",
    "    return np.sum(P)-np.trace(P)"
   ]
  },
  {
   "cell_type": "code",
   "execution_count": 111,
   "id": "9fed2241",
   "metadata": {},
   "outputs": [],
   "source": [
    "def triad6(matrix):\n",
    "\n",
    "    A = matrix\n",
    "\n",
    "    n   = len(A)\n",
    "    At  = np.transpose(A)\n",
    "    Ones = np.ones((n,n))\n",
    "\n",
    "    X  = np.multiply(Ones-A,Ones-At)\n",
    "    Y = np.multiply(A,At)\n",
    "    Y2 = lin.matrix_power(Y ,2)\n",
    "\n",
    "    P = np.multiply(X,Y2)\n",
    "\n",
    "    return (np.sum(P)-np.trace(P))/2"
   ]
  },
  {
   "cell_type": "code",
   "execution_count": 112,
   "id": "a7048c0a",
   "metadata": {},
   "outputs": [],
   "source": [
    "def triad7(matrix):\n",
    "\n",
    "    A = matrix\n",
    "\n",
    "    n   = len(A)\n",
    "    At  = np.transpose(A)\n",
    "    Ones = np.ones((n,n))\n",
    "\n",
    "    V  = np.multiply(A,Ones-At)\n",
    "    Y = np.multiply(A,At)\n",
    "    C = lin.matrix_power(A ,2) -np.dot(Y,A) -np.dot(A,Y)+  lin.matrix_power(Y ,2)\n",
    "\n",
    "    P1 = np.multiply(V,C)\n",
    "\n",
    "    return np.sum(P1)-np.trace(P1)"
   ]
  },
  {
   "cell_type": "code",
   "execution_count": 113,
   "id": "c2885834",
   "metadata": {},
   "outputs": [],
   "source": [
    "def triad8(matrix):\n",
    "\n",
    "    A = matrix\n",
    "\n",
    "    n   = len(A)\n",
    "    At  = np.transpose(A)\n",
    "    Ones = np.ones((n,n))\n",
    "\n",
    "    V  = np.multiply(A,Ones-At)\n",
    "\n",
    "    return np.trace(lin.matrix_power(V,3))/3"
   ]
  },
  {
   "cell_type": "code",
   "execution_count": 114,
   "id": "824bb1b8",
   "metadata": {},
   "outputs": [],
   "source": [
    "def triad9(matrix):\n",
    "\n",
    "    A = matrix\n",
    "\n",
    "    n   = len(A)\n",
    "    At  = np.transpose(A)\n",
    "\n",
    "    Y  = np.multiply(A,At)\n",
    "    AcAt = np.multiply(A,At)\n",
    "    B = np.dot(At,A) -np.dot(AcAt,A) -np.dot(At,AcAt)+  lin.matrix_power(AcAt ,2)\n",
    "\n",
    "    P = np.multiply(Y,B)\n",
    "\n",
    "    return (np.sum(P)-np.trace(P))/2"
   ]
  },
  {
   "cell_type": "code",
   "execution_count": 115,
   "id": "ae26c249",
   "metadata": {},
   "outputs": [],
   "source": [
    "def triad10(matrix):\n",
    "    return triad9(np.transpose(matrix))"
   ]
  },
  {
   "cell_type": "code",
   "execution_count": 116,
   "id": "3aed5994",
   "metadata": {},
   "outputs": [],
   "source": [
    "def triad11(matrix):\n",
    "\n",
    "    A = matrix\n",
    "\n",
    "    n   = len(A)\n",
    "    At  = np.transpose(A)\n",
    "    Ones = np.ones((n,n))\n",
    "\n",
    "    Y = np.multiply(A,At)\n",
    "    C = lin.matrix_power(A ,2) -np.dot(Y,A) -np.dot(A,Y)+  lin.matrix_power(Y ,2)\n",
    "\n",
    "    P = np.multiply(Y,C)\n",
    "\n",
    "    return np.sum(P)-np.trace(P)"
   ]
  },
  {
   "cell_type": "code",
   "execution_count": 117,
   "id": "9bd34737",
   "metadata": {},
   "outputs": [],
   "source": [
    "def triad12(matrix):\n",
    "\n",
    "    A = matrix\n",
    "\n",
    "    n   = len(A)\n",
    "    At  = np.transpose(A)\n",
    "    Ones = np.ones((n,n))\n",
    "\n",
    "    V  = np.multiply(A,Ones-At)\n",
    "    Y = np.multiply(A,At)\n",
    "    Y2 = lin.matrix_power(Y ,2)\n",
    "\n",
    "    P = np.multiply(V,Y2)\n",
    "\n",
    "    return np.sum(P)-np.trace(P)"
   ]
  },
  {
   "cell_type": "code",
   "execution_count": 118,
   "id": "a2ed726a",
   "metadata": {},
   "outputs": [],
   "source": [
    "def triad13(matrix):\n",
    "\n",
    "    A = matrix\n",
    "    n   = len(A)\n",
    "    At  = np.transpose(A)\n",
    "\n",
    "    Y = np.multiply(A,At)\n",
    "    Y3 = lin.matrix_power(Y ,3)\n",
    "    \n",
    "    return np.trace(Y3)/6"
   ]
  },
  {
   "cell_type": "code",
   "execution_count": 132,
   "id": "9033b5aa",
   "metadata": {},
   "outputs": [
    {
     "name": "stdout",
     "output_type": "stream",
     "text": [
      "1 0.0\n",
      "2 0.0\n",
      "3 0.0\n",
      "4 0.0\n",
      "5 0.0\n",
      "6 0.0\n",
      "7 0.0\n",
      "8 0.0\n",
      "9 0.0\n",
      "10 0.0\n",
      "11 0\n",
      "12 0.0\n",
      "13 1.0\n"
     ]
    }
   ],
   "source": [
    "#A = matrix\n",
    "A = A13\n",
    "print(1,triad1(A))\n",
    "print(2,triad2(A))\n",
    "print(3,triad3(A))\n",
    "print(4,triad4(A))\n",
    "print(5,triad5(A))\n",
    "print(6,triad6(A))\n",
    "print(7,triad7(A))\n",
    "print(8,triad8(A))\n",
    "print(9,triad9(A))\n",
    "print(10,triad10(A))\n",
    "print(11,triad11(A))\n",
    "print(12,triad12(A))\n",
    "print(13,triad13(A))"
   ]
  },
  {
   "cell_type": "markdown",
   "id": "af8a3b8a",
   "metadata": {},
   "source": [
    "## Triad Census"
   ]
  },
  {
   "cell_type": "code",
   "execution_count": null,
   "id": "3a99dd49",
   "metadata": {},
   "outputs": [],
   "source": [
    "import numpy as np\n",
    "from numpy import linalg as lin\n",
    "\n",
    "def triad_census(matrix):\n",
    "    \n",
    "    A   = matrix\n",
    "    n   = len(A) \n",
    "    At  = np.transpose(A)\n",
    "    Ones = np.ones((n,n))\n",
    "\n",
    "    Y = np.multiply(A,At)\n",
    "    X  = np.multiply(Ones-A,Ones-At)\n",
    "    \n",
    "    B = np.dot(At,A) -np.dot(Y,A) -np.dot(At,Y)+  lin.matrix_power(Y ,2)\n",
    "    Bp = np.dot(A,At) -np.dot(Y,At) -np.dot(A,Y)+  lin.matrix_power(Y ,2)\n",
    "    C = lin.matrix_power(A ,2) -np.dot(Y,A) -np.dot(A,Y)+  lin.matrix_power(Y ,2)\n",
    "\n",
    "    t = np.zeros(13) \n",
    "# Triad 1\n",
    "    P1 = np.multiply(X,B)\n",
    "    t[0]  = np.sum(P1)-np.trace(P1)   # t[0] is the count for triad 1, etc. \n",
    "# Triad 2\n",
    "    P2 = np.multiply(X,Bp)\n",
    "    t[1]  = np.sum(P2)-np.trace(P2)  \n",
    "# Triad 3\n",
    "    P3 = np.multiply(X,C)\n",
    "    t[2] = np.sum(P3)-np.trace(P3)\n",
    "\n",
    "\n",
    "\n",
    "\n",
    "\n",
    "\n",
    "\n",
    "    \n",
    "    t[1]  = (np.sum(AAt) - np.trace(AAt))/2\n",
    "    t[2]  = np.sum(A2)-np.trace(A2)\n",
    "    t[3]  = np.sum(np.dot(A,D2)-As)\n",
    "    t[4]  = np.sum(np.dot(At,D2)-As)\n",
    "    t[5]  = (np.sum(As2)-np.trace(As2))/2\n",
    "    t[6]  = np.sum(np.multiply(A2,A))\n",
    "\n",
    "# Triad 8 corrected:    \n",
    "    t[7]  = np.sum(\n",
    "        np.multiply( np.multiply(A,At2) , np.multiply(Ones-As,Ones-As2) )\n",
    "    )/3  \n",
    "    \n",
    "    t[8]  = np.sum((np.multiply(AtA,As)))/2    \n",
    "    t[9]  = np.sum((np.multiply(AAt,As)))/2\n",
    "    t[10] = np.sum(np.multiply(A2,As))\n",
    "    t[11] = np.sum(np.multiply(As2,A))\n",
    "    t[12] = np.trace(As3)/6\n",
    "    \n",
    "    return t.astype(int)"
   ]
  },
  {
   "cell_type": "markdown",
   "id": "b181b05d",
   "metadata": {},
   "source": [
    "## Examples"
   ]
  },
  {
   "cell_type": "code",
   "execution_count": null,
   "id": "6f20ea74",
   "metadata": {},
   "outputs": [],
   "source": [
    "A = [\n",
    "[0, 1, 1],\n",
    "[1, 0, 1],\n",
    "[1, 1, 0]\n",
    "]"
   ]
  },
  {
   "cell_type": "code",
   "execution_count": null,
   "id": "01a7ba42",
   "metadata": {},
   "outputs": [],
   "source": [
    "A = [\n",
    " [0, 1, 0, 1, 0, 0, 1, 1],\n",
    " [1, 0, 0, 1, 0, 0, 1, 0],\n",
    " [1, 1, 0, 0, 0, 0, 0, 1],\n",
    " [1, 1, 0, 0, 0, 0, 0, 0],\n",
    " [1, 0, 0, 0, 0, 1, 1, 1],\n",
    " [0, 1, 0, 0, 0, 0, 0, 1],\n",
    " [0, 0, 0, 0, 0, 0, 0, 1],\n",
    " [0, 0, 1, 1, 0, 0, 0, 0]\n",
    "]"
   ]
  },
  {
   "cell_type": "code",
   "execution_count": null,
   "id": "1a1bdc47",
   "metadata": {},
   "outputs": [],
   "source": [
    "triad_census(A)"
   ]
  },
  {
   "cell_type": "code",
   "execution_count": null,
   "id": "9f0d1917",
   "metadata": {},
   "outputs": [],
   "source": [
    "A3  = lin.matrix_power(A, 3)\n",
    "A3"
   ]
  },
  {
   "cell_type": "code",
   "execution_count": null,
   "id": "3010d016",
   "metadata": {},
   "outputs": [],
   "source": [
    "g = Network(notebook = True, directed=True)\n",
    "\n",
    "for i in range(len(A)):\n",
    "    g.add_node(i,size=10,color='black')\n",
    "for i in range(len(A)):\n",
    "    for j in range(len(A)):\n",
    "        if A[i][j] == 1:\n",
    "            g.add_edge(i, j)\n",
    "g.show(\"network.html\")"
   ]
  },
  {
   "cell_type": "code",
   "execution_count": null,
   "id": "0752c751",
   "metadata": {},
   "outputs": [],
   "source": [
    "m = 50\n",
    "n = len(A)\n",
    "#p = np.sum(A)/(n**2)\n",
    "#n = 10\n",
    "p = .5\n",
    "census = np.zeros(13)\n",
    "for i in range(m):\n",
    "    matrix = random_adj_matrix(n,p)\n",
    "    census = census + triad_census(matrix)\n",
    "avg_census = census/m\n",
    "print(avg_census)\n",
    "t = range(1,14)\n",
    "plt.plot(t,avg_census);"
   ]
  },
  {
   "cell_type": "code",
   "execution_count": null,
   "id": "eca062c6",
   "metadata": {},
   "outputs": [],
   "source": [
    "Tp/avg_census"
   ]
  },
  {
   "cell_type": "code",
   "execution_count": null,
   "id": "a2bcfdc8",
   "metadata": {},
   "outputs": [],
   "source": [
    "plt.plot(t,Tp/avg_census);"
   ]
  },
  {
   "cell_type": "code",
   "execution_count": null,
   "id": "41a52d01",
   "metadata": {},
   "outputs": [],
   "source": [
    "matrix = random_adj_matrix(8,.3)\n",
    "census = triad_census(matrix)\n",
    "print(matrix)\n",
    "print('')\n",
    "print(census)\n",
    "print('')\n",
    "plt.plot(t,census);"
   ]
  },
  {
   "cell_type": "code",
   "execution_count": null,
   "id": "061bb364",
   "metadata": {},
   "outputs": [],
   "source": [
    "g = Network(notebook = True,directed=True)\n",
    "#g.set_options('{\"layout\": {\"randomSeed\":0}}')\n",
    "for i in range(len(matrix)):\n",
    "    g.add_node(i,size=10,color='black')\n",
    "for i in range(len(matrix)):\n",
    "    for j in range(len(matrix)):\n",
    "        if matrix[i][j] == 1:\n",
    "            g.add_edge(i, j)\n",
    "g.show(\"network.html\")"
   ]
  },
  {
   "cell_type": "code",
   "execution_count": null,
   "id": "970b2b31",
   "metadata": {},
   "outputs": [],
   "source": [
    "#matrix I sent to Shade\n",
    "\n",
    "[[0, 1, 0, 1, 0, 0, 1, 1],\n",
    "[1, 0, 0, 1, 0, 0, 1, 0],\n",
    "[1, 1, 0, 0, 0, 0, 0, 1],\n",
    "[1, 1, 0, 0, 0, 0, 0, 0],\n",
    "[1, 0, 0, 0, 0, 1, 1, 1],\n",
    "[0, 1, 0, 0, 0, 0, 0, 1],\n",
    "[0, 0, 0, 0, 0, 0, 0, 1],\n",
    "[0, 0, 1, 1, 0, 0, 0, 0]]\n",
    "\n",
    "# My triad counts\n",
    "[21, 28, 44, 20, 15,  3, 17,  4,  4,  4,  8,  6,  1]"
   ]
  }
 ],
 "metadata": {
  "kernelspec": {
   "display_name": "Python 3",
   "language": "python",
   "name": "python3"
  },
  "language_info": {
   "codemirror_mode": {
    "name": "ipython",
    "version": 3
   },
   "file_extension": ".py",
   "mimetype": "text/x-python",
   "name": "python",
   "nbconvert_exporter": "python",
   "pygments_lexer": "ipython3",
   "version": "3.9.5"
  }
 },
 "nbformat": 4,
 "nbformat_minor": 5
}
