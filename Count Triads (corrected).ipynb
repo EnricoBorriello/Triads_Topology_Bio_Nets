{
 "cells": [
  {
   "cell_type": "code",
   "execution_count": 1,
   "id": "d2c63f32",
   "metadata": {},
   "outputs": [],
   "source": [
    "import numpy as np\n",
    "from numpy import linalg as lin\n",
    "import random as rn\n",
    "from pyvis.network import Network\n",
    "\n",
    "import matplotlib.pyplot as plt"
   ]
  },
  {
   "cell_type": "markdown",
   "id": "af8a3b8a",
   "metadata": {},
   "source": [
    "## Triad Census"
   ]
  },
  {
   "cell_type": "code",
   "execution_count": 2,
   "id": "3a99dd49",
   "metadata": {},
   "outputs": [],
   "source": [
    "import numpy as np\n",
    "from numpy import linalg as lin\n",
    "\n",
    "def triad_census(matrix):\n",
    "    \n",
    "    A   = matrix\n",
    "    n   = len(A) \n",
    "    At  = np.transpose(A)\n",
    "    Ones = np.ones((n,n))\n",
    "\n",
    "    X  = np.multiply(Ones-A,Ones-At)\n",
    "    Y = np.multiply(A,At)\n",
    "    Z  = np.multiply(A,Ones-At)\n",
    "    Y2 = lin.matrix_power(Y,2)\n",
    "    Y3 = lin.matrix_power(Y,3)\n",
    "    \n",
    "    B = np.dot(At,A) -np.dot(Y,A) -np.dot(At,Y) +lin.matrix_power(Y ,2)\n",
    "    Bp = np.dot(A,At) -np.dot(Y,At) -np.dot(A,Y) +lin.matrix_power(Y ,2)\n",
    "    C = lin.matrix_power(A ,2) -np.dot(Y,A) -np.dot(A,Y) +lin.matrix_power(Y ,2)\n",
    "    D = np.dot(Y,At) -lin.matrix_power(Y ,2)\n",
    "    E = np.dot(Y,A) -lin.matrix_power(Y ,2)\n",
    "\n",
    "    t = np.zeros(13) \n",
    "# Triad 1\n",
    "    P1 = np.multiply(X,B)\n",
    "    t[0]  = (np.sum(P1)-np.trace(P1))/2   # t[0] is the count for triad 1, etc. \n",
    "# Triad 2\n",
    "    P2 = np.multiply(X,Bp)\n",
    "    t[1]  = (np.sum(P2)-np.trace(P2))/2  \n",
    "# Triad 3\n",
    "    P3 = np.multiply(X,C)\n",
    "    t[2] = np.sum(P3)-np.trace(P3)\n",
    "# Triad 4\n",
    "    P4 = np.multiply(X,D)\n",
    "    t[3] = np.sum(P4)-np.trace(P4)\n",
    "# Triad 5\n",
    "    P5 = np.multiply(X,E)\n",
    "    t[4] = np.sum(P5)-np.trace(P5)\n",
    "# Triad 6\n",
    "    P6 = np.multiply(X,Y2)\n",
    "    t[5] = (np.sum(P6)-np.trace(P6))/2\n",
    "# Triad 7\n",
    "    P7 = np.multiply(Z,C)\n",
    "    t[6] = np.sum(P7)   \n",
    "# Triad 8    \n",
    "    t[7] = np.trace(lin.matrix_power(Z,3))/3   \n",
    "# Triad 9\n",
    "    P9 = np.multiply(Y,B)\n",
    "    t[8] = np.sum(P9)/2\n",
    "# Triad 10\n",
    "    P10 = np.multiply(Y,Bp)\n",
    "    t[9] = np.sum(P10)/2\n",
    "# Triad 11   \n",
    "    P11 = np.multiply(Y,C)\n",
    "    t[10] = np.sum(P11)   \n",
    "# Triad 12   \n",
    "    P12 = np.multiply(Z,Y2)\n",
    "    t[11] = np.sum(P12)\n",
    "# Triad 13\n",
    "    t[12] = np.trace(Y3)/6\n",
    "\n",
    "    return t.astype(int)"
   ]
  },
  {
   "cell_type": "markdown",
   "id": "b181b05d",
   "metadata": {},
   "source": [
    "## Examples"
   ]
  },
  {
   "cell_type": "code",
   "execution_count": 3,
   "id": "b51ac8b4",
   "metadata": {},
   "outputs": [],
   "source": [
    "#random non symmetric with n, p\n",
    "def random_adj_matrix(N,p):\n",
    "    A = np.zeros((N,N), dtype=int)\n",
    "    for i in range(N):\n",
    "        for j in range(N):\n",
    "            if rn.random() < p and i!=j:\n",
    "                A[i][j] = 1\n",
    "    return A"
   ]
  },
  {
   "cell_type": "code",
   "execution_count": 4,
   "id": "fcef6bcf",
   "metadata": {},
   "outputs": [],
   "source": [
    "matrix = [\n",
    " [0, 1, 0, 1, 0, 0, 1, 1],\n",
    " [1, 0, 0, 1, 0, 0, 1, 0],\n",
    " [1, 1, 0, 0, 0, 0, 0, 1],\n",
    " [1, 1, 0, 0, 0, 0, 0, 0],\n",
    " [1, 0, 0, 0, 0, 1, 1, 1],\n",
    " [0, 1, 0, 0, 0, 0, 0, 1],\n",
    " [0, 0, 0, 0, 0, 0, 0, 1],\n",
    " [0, 0, 1, 1, 0, 0, 0, 0]]"
   ]
  },
  {
   "cell_type": "code",
   "execution_count": 5,
   "id": "e6a30dcd",
   "metadata": {},
   "outputs": [],
   "source": [
    "d4 = [\n",
    "    [0,1,0,1,1],\n",
    "    [1,0,0,1,0],\n",
    "    [0,1,0,0,1],\n",
    "    [0,0,1,0,0],\n",
    "    [1,1,0,0,0]\n",
    "]"
   ]
  },
  {
   "cell_type": "code",
   "execution_count": 6,
   "id": "2bf70ae1",
   "metadata": {},
   "outputs": [],
   "source": [
    "A1  = [[0,0,0],[0,0,0],[1,1,0]]\n",
    "A2  = [[0,0,1],[0,0,1],[0,0,0]]\n",
    "A3  = [[0,0,1],[0,0,0],[0,1,0]]\n",
    "A4  = [[0,0,1],[0,0,1],[1,0,0]]\n",
    "A5  = [[0,0,1],[0,0,0],[1,1,0]]\n",
    "A6  = [[0,0,1],[0,0,1],[1,1,0]]\n",
    "A7  = [[0,1,1],[0,0,0],[0,1,0]]\n",
    "A8  = [[0,1,0],[0,0,1],[1,0,0]]\n",
    "A9  = [[0,1,0],[1,0,0],[1,1,0]]\n",
    "A10 = [[0,1,1],[1,0,1],[0,0,0]]\n",
    "A11 = [[0,1,1],[1,0,0],[0,1,0]]\n",
    "A12 = [[0,1,1],[0,0,1],[1,1,0]]\n",
    "A13 = [[0,1,1],[1,0,1],[1,1,0]]"
   ]
  },
  {
   "cell_type": "code",
   "execution_count": 7,
   "id": "6dec9346",
   "metadata": {},
   "outputs": [
    {
     "data": {
      "text/html": [
       "\n",
       "        <iframe\n",
       "            width=\"500px\"\n",
       "            height=\"500px\"\n",
       "            src=\"network.html\"\n",
       "            frameborder=\"0\"\n",
       "            allowfullscreen\n",
       "        ></iframe>\n",
       "        "
      ],
      "text/plain": [
       "<IPython.lib.display.IFrame at 0x7fdfc889c580>"
      ]
     },
     "execution_count": 7,
     "metadata": {},
     "output_type": "execute_result"
    }
   ],
   "source": [
    "#A = random_adj_matrix(4,.5)\n",
    "A = d4\n",
    "\n",
    "g = Network(notebook = True, directed=True)\n",
    "\n",
    "for i in range(len(A)):\n",
    "    g.add_node(i,size=10,color='black')\n",
    "for i in range(len(A)):\n",
    "    for j in range(len(A)):\n",
    "        if A[i][j] == 1:\n",
    "            g.add_edge(i, j)\n",
    "g.show(\"network.html\")"
   ]
  },
  {
   "cell_type": "code",
   "execution_count": 8,
   "id": "1dde080a",
   "metadata": {},
   "outputs": [
    {
     "name": "stdout",
     "output_type": "stream",
     "text": [
      "1 2\n",
      "1 4\n",
      "1 5\n",
      "2 1\n",
      "2 4\n",
      "3 2\n",
      "3 5\n",
      "4 3\n",
      "5 1\n",
      "5 2\n"
     ]
    }
   ],
   "source": [
    "# print list index \n",
    "A = d4\n",
    "n = len(A)\n",
    "\n",
    "for i in range(n):\n",
    "    for j in range(n):\n",
    "        if A[i][j] != 0:\n",
    "            print(i+1,j+1)"
   ]
  },
  {
   "cell_type": "code",
   "execution_count": 11,
   "id": "0b5525cf",
   "metadata": {},
   "outputs": [
    {
     "data": {
      "text/plain": [
       "array([0, 0, 3, 1, 2, 0, 1, 1, 1, 0, 0, 1, 0])"
      ]
     },
     "execution_count": 11,
     "metadata": {},
     "output_type": "execute_result"
    }
   ],
   "source": [
    "#A = random_adj_matrix(10,.5)\n",
    "A = np.transpose(d4)\n",
    "triad_census(A)"
   ]
  },
  {
   "cell_type": "code",
   "execution_count": null,
   "id": "de03ff8c",
   "metadata": {},
   "outputs": [],
   "source": []
  }
 ],
 "metadata": {
  "kernelspec": {
   "display_name": "Python 3",
   "language": "python",
   "name": "python3"
  },
  "language_info": {
   "codemirror_mode": {
    "name": "ipython",
    "version": 3
   },
   "file_extension": ".py",
   "mimetype": "text/x-python",
   "name": "python",
   "nbconvert_exporter": "python",
   "pygments_lexer": "ipython3",
   "version": "3.9.0"
  }
 },
 "nbformat": 4,
 "nbformat_minor": 5
}
