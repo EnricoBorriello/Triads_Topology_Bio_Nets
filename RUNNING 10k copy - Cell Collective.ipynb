{
 "cells": [
  {
   "cell_type": "code",
   "execution_count": 1,
   "id": "8d122684",
   "metadata": {},
   "outputs": [],
   "source": [
    "import numpy as np\n",
    "from numpy import linalg as lin\n",
    "import random as rn\n",
    "from pyvis.network import Network\n",
    "import pandas as pd\n",
    "import matplotlib.pyplot as plt"
   ]
  },
  {
   "cell_type": "code",
   "execution_count": 2,
   "id": "03f555e0",
   "metadata": {},
   "outputs": [],
   "source": [
    "import triad_utils as tu"
   ]
  },
  {
   "cell_type": "code",
   "execution_count": 3,
   "id": "1a6617fd",
   "metadata": {},
   "outputs": [],
   "source": [
    "# UNIX\n",
    "! rm net_names.txt\n",
    "#v1) ! ls database >> net_names.txt\n",
    "! ls matrices >> net_names.txt"
   ]
  },
  {
   "cell_type": "code",
   "execution_count": 4,
   "id": "c24a8059",
   "metadata": {},
   "outputs": [],
   "source": [
    "file = open('net_names.txt')\n",
    "net_names = [name.rstrip() for name in file]"
   ]
  },
  {
   "cell_type": "code",
   "execution_count": 5,
   "id": "f5328abb",
   "metadata": {
    "scrolled": true
   },
   "outputs": [
    {
     "data": {
      "text/plain": [
       "71"
      ]
     },
     "execution_count": 5,
     "metadata": {},
     "output_type": "execute_result"
    }
   ],
   "source": [
    "len(net_names)"
   ]
  },
  {
   "cell_type": "code",
   "execution_count": 6,
   "id": "2055376c",
   "metadata": {},
   "outputs": [],
   "source": [
    "census = []\n",
    "for net_num in range(len(net_names)):\n",
    "    matrix = np.loadtxt('matrices/'+net_names[net_num], dtype=int)\n",
    "    n = len(matrix)\n",
    "    for i in range(n):\n",
    "        matrix[i,i] = 0 # removal of self-loops\n",
    "    t = tu.triad_census(matrix)\n",
    "    census.append(list(t))\n",
    "    \n",
    "df1 = pd.DataFrame(census)\n",
    "df1.columns = ['t'+str(i) for i in range(1,14)]\n",
    "df1.to_csv('triads_count.csv')"
   ]
  },
  {
   "cell_type": "code",
   "execution_count": 7,
   "id": "8c9761da",
   "metadata": {},
   "outputs": [
    {
     "data": {
      "text/html": [
       "<div>\n",
       "<style scoped>\n",
       "    .dataframe tbody tr th:only-of-type {\n",
       "        vertical-align: middle;\n",
       "    }\n",
       "\n",
       "    .dataframe tbody tr th {\n",
       "        vertical-align: top;\n",
       "    }\n",
       "\n",
       "    .dataframe thead th {\n",
       "        text-align: right;\n",
       "    }\n",
       "</style>\n",
       "<table border=\"1\" class=\"dataframe\">\n",
       "  <thead>\n",
       "    <tr style=\"text-align: right;\">\n",
       "      <th></th>\n",
       "      <th>t1</th>\n",
       "      <th>t2</th>\n",
       "      <th>t3</th>\n",
       "      <th>t4</th>\n",
       "      <th>t5</th>\n",
       "      <th>t6</th>\n",
       "      <th>t7</th>\n",
       "      <th>t8</th>\n",
       "      <th>t9</th>\n",
       "      <th>t10</th>\n",
       "      <th>t11</th>\n",
       "      <th>t12</th>\n",
       "      <th>t13</th>\n",
       "    </tr>\n",
       "  </thead>\n",
       "  <tbody>\n",
       "    <tr>\n",
       "      <th>0</th>\n",
       "      <td>33</td>\n",
       "      <td>31</td>\n",
       "      <td>87</td>\n",
       "      <td>10</td>\n",
       "      <td>18</td>\n",
       "      <td>0</td>\n",
       "      <td>8</td>\n",
       "      <td>1</td>\n",
       "      <td>0</td>\n",
       "      <td>1</td>\n",
       "      <td>2</td>\n",
       "      <td>0</td>\n",
       "      <td>1</td>\n",
       "    </tr>\n",
       "    <tr>\n",
       "      <th>1</th>\n",
       "      <td>47</td>\n",
       "      <td>34</td>\n",
       "      <td>53</td>\n",
       "      <td>18</td>\n",
       "      <td>20</td>\n",
       "      <td>3</td>\n",
       "      <td>51</td>\n",
       "      <td>4</td>\n",
       "      <td>1</td>\n",
       "      <td>6</td>\n",
       "      <td>12</td>\n",
       "      <td>5</td>\n",
       "      <td>0</td>\n",
       "    </tr>\n",
       "    <tr>\n",
       "      <th>2</th>\n",
       "      <td>123</td>\n",
       "      <td>85</td>\n",
       "      <td>180</td>\n",
       "      <td>22</td>\n",
       "      <td>26</td>\n",
       "      <td>2</td>\n",
       "      <td>38</td>\n",
       "      <td>3</td>\n",
       "      <td>3</td>\n",
       "      <td>0</td>\n",
       "      <td>7</td>\n",
       "      <td>0</td>\n",
       "      <td>0</td>\n",
       "    </tr>\n",
       "    <tr>\n",
       "      <th>3</th>\n",
       "      <td>9</td>\n",
       "      <td>12</td>\n",
       "      <td>25</td>\n",
       "      <td>13</td>\n",
       "      <td>6</td>\n",
       "      <td>2</td>\n",
       "      <td>1</td>\n",
       "      <td>0</td>\n",
       "      <td>2</td>\n",
       "      <td>2</td>\n",
       "      <td>1</td>\n",
       "      <td>3</td>\n",
       "      <td>1</td>\n",
       "    </tr>\n",
       "    <tr>\n",
       "      <th>4</th>\n",
       "      <td>36</td>\n",
       "      <td>44</td>\n",
       "      <td>68</td>\n",
       "      <td>12</td>\n",
       "      <td>8</td>\n",
       "      <td>0</td>\n",
       "      <td>2</td>\n",
       "      <td>1</td>\n",
       "      <td>0</td>\n",
       "      <td>0</td>\n",
       "      <td>0</td>\n",
       "      <td>0</td>\n",
       "      <td>0</td>\n",
       "    </tr>\n",
       "  </tbody>\n",
       "</table>\n",
       "</div>"
      ],
      "text/plain": [
       "    t1  t2   t3  t4  t5  t6  t7  t8  t9  t10  t11  t12  t13\n",
       "0   33  31   87  10  18   0   8   1   0    1    2    0    1\n",
       "1   47  34   53  18  20   3  51   4   1    6   12    5    0\n",
       "2  123  85  180  22  26   2  38   3   3    0    7    0    0\n",
       "3    9  12   25  13   6   2   1   0   2    2    1    3    1\n",
       "4   36  44   68  12   8   0   2   1   0    0    0    0    0"
      ]
     },
     "execution_count": 7,
     "metadata": {},
     "output_type": "execute_result"
    }
   ],
   "source": [
    "df1.head()"
   ]
  },
  {
   "cell_type": "code",
   "execution_count": 8,
   "id": "0f08b696",
   "metadata": {},
   "outputs": [],
   "source": [
    "df1 = pd.read_csv('triads_count.csv').drop('Unnamed: 0', axis=1)"
   ]
  },
  {
   "cell_type": "code",
   "execution_count": 9,
   "id": "5ee7abb8",
   "metadata": {},
   "outputs": [],
   "source": [
    "norm_df1 = df1.div(df1.sum(axis=1), axis=0) "
   ]
  },
  {
   "cell_type": "code",
   "execution_count": 10,
   "id": "b6d628e1",
   "metadata": {},
   "outputs": [
    {
     "data": {
      "image/png": "[encoded data removed]",
      "text/plain": [
       "<Figure size 432x288 with 1 Axes>"
      ]
     },
     "metadata": {
      "needs_background": "light"
     },
     "output_type": "display_data"
    }
   ],
   "source": [
    "for i in range(len(norm_df1)):\n",
    "    pr = norm_df1.loc[i]\n",
    "    t = np.arange(1,14)\n",
    "    plt.plot(t,pr)"
   ]
  },
  {
   "cell_type": "code",
   "execution_count": 11,
   "id": "470a7fa4",
   "metadata": {},
   "outputs": [],
   "source": [
    "data = [ list(norm_df1['t'+str(i+1)]) for i in range(13) ]"
   ]
  },
  {
   "cell_type": "code",
   "execution_count": 12,
   "id": "4ddadebf",
   "metadata": {},
   "outputs": [
    {
     "data": {
      "image/png": "[encoded data removed]",
      "text/plain": [
       "<Figure size 432x288 with 1 Axes>"
      ]
     },
     "metadata": {
      "needs_background": "light"
     },
     "output_type": "display_data"
    }
   ],
   "source": [
    "plt.boxplot(data,notch=False)\n",
    "plt.ylim(0,1);"
   ]
  },
  {
   "cell_type": "code",
   "execution_count": 13,
   "id": "190bb70b",
   "metadata": {},
   "outputs": [
    {
     "data": {
      "image/png": "[encoded data removed]",
      "text/plain": [
       "<Figure size 432x288 with 1 Axes>"
      ]
     },
     "metadata": {
      "needs_background": "light"
     },
     "output_type": "display_data"
    }
   ],
   "source": [
    "m = norm_df1.mean()\n",
    "s = norm_df1.std()\n",
    "\n",
    "plt.plot(t,m,'k')\n",
    "plt.plot(t,m+s,'k--')\n",
    "plt.plot(t,m-s,'k--')\n",
    "plt.ylim(0,1);"
   ]
  },
  {
   "cell_type": "code",
   "execution_count": 14,
   "id": "b99a9137",
   "metadata": {
    "scrolled": true
   },
   "outputs": [
    {
     "data": {
      "text/plain": [
       "0     14.769231\n",
       "1     19.538462\n",
       "2     37.615385\n",
       "3      5.923077\n",
       "4     13.153846\n",
       "        ...    \n",
       "66    10.923077\n",
       "67    74.538462\n",
       "68     2.384615\n",
       "69     5.615385\n",
       "70    34.384615\n",
       "Length: 71, dtype: float64"
      ]
     },
     "execution_count": 14,
     "metadata": {},
     "output_type": "execute_result"
    }
   ],
   "source": [
    "df1.mean(axis=1,numeric_only=True)"
   ]
  },
  {
   "cell_type": "markdown",
   "id": "7ded1b3e",
   "metadata": {},
   "source": [
    "# Random"
   ]
  },
  {
   "cell_type": "code",
   "execution_count": 15,
   "id": "3773cc7a",
   "metadata": {},
   "outputs": [
    {
     "name": "stdout",
     "output_type": "stream",
     "text": [
      "Current date and time : \n",
      "2023-01-31 15:40:36\n"
     ]
    }
   ],
   "source": [
    "import datetime\n",
    "now = datetime.datetime.now()\n",
    "print (\"Current date and time : \")\n",
    "print (now.strftime(\"%Y-%m-%d %H:%M:%S\"))"
   ]
  },
  {
   "cell_type": "code",
   "execution_count": 19,
   "id": "86c4756e",
   "metadata": {},
   "outputs": [],
   "source": [
    "# single run\n",
    "\n",
    "net_num = 19\n",
    "ensemble_size = 10\n",
    "\n",
    "matrix = np.loadtxt('matrices/'+net_names[net_num], dtype=int)\n",
    "n = len(matrix)\n",
    "n_edges = len(tu.edge_list(matrix))\n",
    "\n",
    "for i in range(n):\n",
    "        matrix[i,i] = 0 # removal of self-loops\n",
    "        t = tu.triad_significance_profile(matrix, ensemble_size, 100*n_edges)"
   ]
  },
  {
   "cell_type": "code",
   "execution_count": 20,
   "id": "00ac5f42",
   "metadata": {},
   "outputs": [
    {
     "data": {
      "text/plain": [
       "[-5.358718214187698,\n",
       " -5.960692136511384,\n",
       " -4.761601064463203,\n",
       " 4.084358690268058,\n",
       " 2.347137474873539,\n",
       " 0.8374036143210803,\n",
       " -2.448642608141629,\n",
       " -2.9065917948808986,\n",
       " 3.6181361349331636,\n",
       " 5.888888888888889,\n",
       " -1.5434872662825794,\n",
       " 0,\n",
       " inf]"
      ]
     },
     "execution_count": 20,
     "metadata": {},
     "output_type": "execute_result"
    }
   ],
   "source": [
    "t"
   ]
  },
  {
   "cell_type": "code",
   "execution_count": null,
   "id": "5493c8c7",
   "metadata": {},
   "outputs": [],
   "source": [
    "# all runs\n",
    "\n",
    "ensemble_size = 10000\n",
    "\n",
    "significance = []\n",
    "\n",
    "for net_num in range(len(net_names)):\n",
    "\n",
    "    matrix = np.loadtxt('matrices/'+net_names[net_num], dtype=int)\n",
    "    n = len(matrix)\n",
    "    n_edges = len(tu.edge_list(matrix))\n",
    "    \n",
    "    for i in range(n):\n",
    "        matrix[i,i] = 0 # removal of self-loops\n",
    "    t = tu.triad_significance_profile(matrix, ensemble_size, 100*n_edges)\n",
    "    significance.append(list(t))\n",
    "    \n",
    "    print(net_num)\n",
    "    \n",
    "df2 = pd.DataFrame(significance)\n",
    "df2.columns = ['t'+str(i) for i in range(1,14)]\n",
    "df2.to_csv('significance_profiles.csv')"
   ]
  },
  {
   "cell_type": "code",
   "execution_count": null,
   "id": "8caa6de0",
   "metadata": {},
   "outputs": [],
   "source": [
    "import datetime\n",
    "now = datetime.datetime.now()\n",
    "print (\"Current date and time : \")\n",
    "print (now.strftime(\"%Y-%m-%d %H:%M:%S\"))"
   ]
  },
  {
   "cell_type": "code",
   "execution_count": null,
   "id": "9a1ed488",
   "metadata": {},
   "outputs": [],
   "source": [
    "#df_result = pd.DataFrame(result)\n",
    "df2"
   ]
  },
  {
   "cell_type": "code",
   "execution_count": null,
   "id": "cca1f5b6",
   "metadata": {},
   "outputs": [],
   "source": [
    "df2.to_csv('New_run10000.csv')  "
   ]
  },
  {
   "cell_type": "code",
   "execution_count": null,
   "id": "4ffbc329",
   "metadata": {},
   "outputs": [],
   "source": [
    "df2 = pd.read_csv('New_run10000.csv').drop('Unnamed: 0', axis=1)"
   ]
  },
  {
   "cell_type": "code",
   "execution_count": null,
   "id": "e5f43cde",
   "metadata": {},
   "outputs": [],
   "source": [
    "for i in range(len(df2)):\n",
    "    pr = np.array(df2.loc[i])\n",
    "    t = np.arange(1,14)\n",
    "    plt.plot(t,pr)\n",
    "#    plt.ylim(-1,1)"
   ]
  },
  {
   "cell_type": "code",
   "execution_count": null,
   "id": "e13bca3e",
   "metadata": {},
   "outputs": [],
   "source": [
    "t = np.arange(1,14)\n",
    "z1 = np.array(df2.loc[1])\n",
    "z2 = np.array(df2.loc[2])\n",
    "z3 = np.array(df2.loc[3])\n",
    "plt.plot(t,z1)\n",
    "plt.plot(t,z2)\n",
    "plt.plot(t,z3)"
   ]
  },
  {
   "cell_type": "code",
   "execution_count": null,
   "id": "f6bed735",
   "metadata": {},
   "outputs": [],
   "source": [
    "t = np.arange(1,14)\n",
    "z0 = np.array(df2.loc[0])\n",
    "plt.plot(t,z0)"
   ]
  },
  {
   "cell_type": "code",
   "execution_count": null,
   "id": "f99e3aae",
   "metadata": {
    "scrolled": true
   },
   "outputs": [],
   "source": [
    "m = df2.mean()\n",
    "s = df2.std()\n",
    "\n",
    "plt.plot(t,m,'k')\n",
    "plt.plot(t,m+s,'k--')\n",
    "plt.plot(t,m-s,'k--')\n",
    "\n",
    "plt.plot([0,14],[1,1],'--k')"
   ]
  },
  {
   "cell_type": "markdown",
   "id": "27fbefea",
   "metadata": {},
   "source": [
    "# PCA of the direct census"
   ]
  },
  {
   "cell_type": "code",
   "execution_count": null,
   "id": "03a22e9b",
   "metadata": {},
   "outputs": [],
   "source": [
    "data0 = np.array(df1)\n",
    "X_centered = df1 - df1.mean(axis = 0)\n",
    "U, s , Vt = np.linalg.svd(X_centered)\n",
    "\n",
    "W2 = Vt.T[:,:2]\n",
    "X2D = X_centered.dot(W2)\n",
    "PCA1 = X2D[0]\n",
    "PCA2 = X2D[1]\n",
    "\n",
    "plt.scatter(PCA1,PCA2);"
   ]
  },
  {
   "cell_type": "markdown",
   "id": "0b62f5c3",
   "metadata": {},
   "source": [
    "# PCA of the normalized census"
   ]
  },
  {
   "cell_type": "code",
   "execution_count": null,
   "id": "5944269e",
   "metadata": {},
   "outputs": [],
   "source": [
    "df1_norm = df1.div(\n",
    "    np.linalg.norm(df1,axis=1),\n",
    "    axis=0)\n",
    "\n",
    "data1 = np.array(df1_norm)\n",
    "X_centered = df1_norm - df1_norm.mean(axis = 0)\n",
    "U, s , Vt = np.linalg.svd(X_centered)\n",
    "\n",
    "W2 = Vt.T[:,:2]\n",
    "X2D = X_centered.dot(W2)\n",
    "PCA1 = X2D[0]\n",
    "PCA2 = X2D[1]\n",
    "\n",
    "plt.scatter(PCA1,PCA2);"
   ]
  },
  {
   "cell_type": "markdown",
   "id": "ac0bf23e",
   "metadata": {},
   "source": [
    "# PCA of the Significance Profiles"
   ]
  },
  {
   "cell_type": "code",
   "execution_count": null,
   "id": "f432f44a",
   "metadata": {},
   "outputs": [],
   "source": [
    "# Normalization: Z -> SP\n",
    "df2_norm = df2.div(\n",
    "    np.linalg.norm(df2,axis=1),\n",
    "    axis=0)"
   ]
  },
  {
   "cell_type": "code",
   "execution_count": null,
   "id": "8e641c72",
   "metadata": {
    "scrolled": true
   },
   "outputs": [],
   "source": [
    "df2_norm"
   ]
  },
  {
   "cell_type": "code",
   "execution_count": null,
   "id": "f3776327",
   "metadata": {},
   "outputs": [],
   "source": []
  },
  {
   "cell_type": "code",
   "execution_count": null,
   "id": "f4346494",
   "metadata": {
    "scrolled": true
   },
   "outputs": [],
   "source": [
    "for i in range(len(df2_norm)):\n",
    "    sp = np.array(df2_norm.loc[i])\n",
    "    t = np.arange(1,14)\n",
    "    plt.plot(t,sp)\n",
    "#    plt.ylim(-1,1)"
   ]
  },
  {
   "cell_type": "code",
   "execution_count": null,
   "id": "f940d111",
   "metadata": {
    "scrolled": true
   },
   "outputs": [],
   "source": [
    "# Cleanup\n",
    "\n",
    "\n",
    "data_new1 = df2_norm.copy()                                    # Create duplicate of data\n",
    "data_new1.replace([np.inf, - np.inf], np.nan, inplace = True)  # Exchange inf by NaN\n",
    "data_new1\n",
    "\n",
    "data_new2 = data_new1.dropna()                                 # Delete rows with NaN\n",
    "data_new2"
   ]
  },
  {
   "cell_type": "code",
   "execution_count": null,
   "id": "8bafc773",
   "metadata": {},
   "outputs": [],
   "source": [
    "len(data_new2)"
   ]
  },
  {
   "cell_type": "code",
   "execution_count": null,
   "id": "7638ae81",
   "metadata": {},
   "outputs": [],
   "source": [
    "# K-Means\n",
    "from sklearn.cluster import KMeans\n",
    "from sklearn.metrics import silhouette_score"
   ]
  },
  {
   "cell_type": "code",
   "execution_count": null,
   "id": "c236c890",
   "metadata": {},
   "outputs": [],
   "source": [
    "X = data_new2\n",
    "\n",
    "kmeans_per_k = [KMeans(n_clusters=k, random_state=42).fit(X)\n",
    "                for k in range(1, 20)]\n",
    "\n",
    "silhouette_scores = [silhouette_score(X, model.labels_)\n",
    "                     for model in kmeans_per_k[1:]]"
   ]
  },
  {
   "cell_type": "code",
   "execution_count": null,
   "id": "ee4cf9ba",
   "metadata": {},
   "outputs": [],
   "source": [
    "silhouette_scores"
   ]
  },
  {
   "cell_type": "code",
   "execution_count": null,
   "id": "db3edc50",
   "metadata": {},
   "outputs": [],
   "source": [
    "plt.figure(figsize=(8, 3))\n",
    "plt.plot(range(2, 20), silhouette_scores)\n",
    "plt.xlabel(\"$k$\", fontsize=14)\n",
    "plt.ylabel(\"Silhouette score\", fontsize=14)\n",
    "plt.xticks(np.arange(2, 20, step=1))\n",
    "plt.show()"
   ]
  },
  {
   "cell_type": "code",
   "execution_count": null,
   "id": "a93622fc",
   "metadata": {},
   "outputs": [],
   "source": [
    "k = 2\n",
    "kmeans = KMeans(n_clusters=k)\n",
    "y_pred = kmeans.fit_predict(data_new2)"
   ]
  },
  {
   "cell_type": "code",
   "execution_count": null,
   "id": "a4686c76",
   "metadata": {},
   "outputs": [],
   "source": [
    "M1 = np.array([\n",
    "[-0.5, -0.5060241, -0.5,0.0060241, -0.0060241,-0.0060241,0.5,0.0060241,  0.0060241, -0.0060241,\n",
    "0., -0.0060241,0.],\n",
    "[-0.5, -0.5, -0.5060241,0.,0.05421687,-0.01204819,0.5,-0.0060241,-0.0060241,-0.0060241,0.,0.,-0.0060241]\n",
    "])\n",
    "\n",
    "\n",
    "\n",
    "M2 = np.array([[-0.21038251, -0.33060109,  0.06830601, -0.25956284, -0.50546448,\n",
    "        0.00273224,  0.13934426,  0.00273224,  0.41256831,  0.59289617,\n",
    "       -0.00819672,  0.1010929 , -0.00273224],\n",
    "               [-0.33060109, -0.34153005, -0.11202186, -0.34699454, -0.40710383,\n",
    "       -0.23770492,  0.25409836, -0.09016393,  0.33060109,  0.43989071,\n",
    "        0.03005464,  0.19398907,  0.12295082]\n",
    "    \n",
    "])\n",
    "\n",
    "M3= np.array([\n",
    "    [-0.0248 , -0.0248 , -0.0106 , -0.436  , -0.0745 , -0.677  ,\n",
    "        0.00355,  0.0319 ,  0.457  ,  0.0603 ,  0.0532 ,  0.188  ,\n",
    "        0.238  ],\n",
    "    [-0.0957, -0.0816, -0.0461, -0.564 , -0.202 , -0.401 ,  0.0319,\n",
    "        0.0674,  0.45  ,  0.195 ,  0.0745,  0.323 ,  0.372 ]\n",
    "    \n",
    "])\n",
    "\n",
    "M4 = np.array(\n",
    "\n",
    "[\n",
    "[ 0.48   ,  0.5    ,  0.493  ,  0.147  ,  0.153  ,  0.0667 ,\n",
    "       -0.353  , -0.24   , -0.12   , -0.127  , -0.147  , -0.0667 ,\n",
    "        0.00667],\n",
    "    [ 0.433,  0.413,  0.347,  0.273,  0.227,  0.193, -0.413, -0.18 ,\n",
    "       -0.267, -0.167, -0.227, -0.16 , -0.08 ]\n",
    "]\n",
    ")\n",
    "\n"
   ]
  },
  {
   "cell_type": "code",
   "execution_count": null,
   "id": "8dae1339",
   "metadata": {
    "scrolled": true
   },
   "outputs": [],
   "source": [
    "# PCA All data\n",
    "\n",
    "X_centered = df2_norm - df2_norm.mean(axis = 0)\n",
    "U, s , Vt = np.linalg.svd(X_centered)\n",
    "\n",
    "W2 = Vt.T[:,:2]\n",
    "X2D = X_centered.dot(W2)\n",
    "PCA1 = X2D[0]\n",
    "PCA2 = X2D[1]\n",
    "\n",
    "plt.scatter(PCA1,PCA2, c=y_pred, label=y_pred)\n",
    "\n",
    "# Milo family 1 (2 points, complete)\n",
    "\n",
    "M1_centered = M1 -np.array(df2_norm.mean(axis = 0))\n",
    "M1_2D = M1_centered.dot(W2)\n",
    "milo_1_PCA1 = M1_2D[0]\n",
    "milo_1_PCA2 = M1_2D[1]\n",
    "plt.scatter(milo_1_PCA1,milo_1_PCA2, c='red',marker = '*')\n",
    "\n",
    "# Milo family 2 (2 point)\n",
    "\n",
    "M2_centered = M2 -np.array(df2_norm.mean(axis = 0))\n",
    "M2_2D = M2_centered.dot(W2)\n",
    "milo_2_PCA1 = M2_2D[0]\n",
    "milo_2_PCA2 = M2_2D[1]\n",
    "plt.scatter(milo_2_PCA1,milo_2_PCA2, c='blue',marker = '*')\n",
    "\n",
    "# Milo family 3 (2 point)\n",
    "\n",
    "M3_centered = M3 -np.array(df2_norm.mean(axis = 0))\n",
    "M3_2D = M3_centered.dot(W2)\n",
    "milo_3_PCA1 = M3_2D[0]\n",
    "milo_3_PCA2 = M3_2D[1]\n",
    "plt.scatter(milo_3_PCA1,milo_3_PCA2, c='green',marker = '*')\n",
    "\n",
    "# Milo family 4 (2 point)\n",
    "\n",
    "M4_centered = M4 -np.array(df2_norm.mean(axis = 0))\n",
    "M4_2D = M4_centered.dot(W2)\n",
    "milo_4_PCA1 = M4_2D[0]\n",
    "milo_4_PCA2 = M4_2D[1]\n",
    "plt.scatter(milo_4_PCA1,milo_4_PCA2, c='orange',marker = '*')\n",
    "\n",
    "\n",
    "plt.xlim(-1,1)\n",
    "plt.ylim(-1,1)\n",
    "plt.xlabel('PCA 1');\n",
    "plt.ylabel('PCA 2');"
   ]
  },
  {
   "cell_type": "code",
   "execution_count": null,
   "id": "f76c69b2",
   "metadata": {},
   "outputs": [],
   "source": [
    "t = np.arange(0,13)\n",
    "for y in np.unique(y_pred):\n",
    "    selected_data = []\n",
    "    for i in range(len(df2_norm)):\n",
    "        if y_pred[i] == y:\n",
    "            sp = np.array(df2_norm.iloc[i])\n",
    "            selected_data.append(sp)\n",
    "            plt.plot(t,sp,alpha=.25, c = 'dodgerblue')\n",
    "    m = np.mean(np.array(selected_data),axis=0)\n",
    "    s = np.std(np.array(selected_data),axis=0)\n",
    "        \n",
    "    plt.plot([0.8,13.1],[0,0],'--',c='gray',linewidth=3)\n",
    "    \n",
    "    plt.plot(t,m,'k')\n",
    "    plt.plot(t,m,'ok')\n",
    "    plt.plot(t,m+s,'--',c='gray')\n",
    "    plt.plot(t,m-s,'--',c='gray')\n",
    "\n",
    "    for k in range(13):\n",
    "        if 0 <= m[k] - s[k] or 0>= m[k] + s[k]:\n",
    "            plt.plot([k,k],[0,m[k]], c = 'k' ,linewidth=5)\n",
    "    \n",
    "    plt.xticks(np.arange(13), [str(i) for i in range(1,14)])\n",
    "    \n",
    "    plt.title('macro-family #'+str(y))\n",
    "    plt.show()"
   ]
  },
  {
   "cell_type": "code",
   "execution_count": null,
   "id": "2f674100",
   "metadata": {},
   "outputs": [],
   "source": []
  }
 ],
 "metadata": {
  "kernelspec": {
   "display_name": "Python 3",
   "language": "python",
   "name": "python3"
  },
  "language_info": {
   "codemirror_mode": {
    "name": "ipython",
    "version": 3
   },
   "file_extension": ".py",
   "mimetype": "text/x-python",
   "name": "python",
   "nbconvert_exporter": "python",
   "pygments_lexer": "ipython3",
   "version": "3.9.5"
  }
 },
 "nbformat": 4,
 "nbformat_minor": 5
}
