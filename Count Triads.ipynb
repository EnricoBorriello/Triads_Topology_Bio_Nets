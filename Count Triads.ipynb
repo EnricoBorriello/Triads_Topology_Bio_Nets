{
 "cells": [
  {
   "cell_type": "code",
   "execution_count": 6,
   "id": "d2c63f32",
   "metadata": {},
   "outputs": [],
   "source": [
    "import numpy as np\n",
    "from numpy import linalg as lin\n",
    "import random as rn\n",
    "from pyvis.network import Network"
   ]
  },
  {
   "cell_type": "code",
   "execution_count": 7,
   "id": "8cf02586",
   "metadata": {},
   "outputs": [],
   "source": [
    "def ER_adj_matrix(N,p):\n",
    "    A = np.zeros((N,N), dtype=int)\n",
    "    for i in range(N):\n",
    "        for j in range(i):\n",
    "            if rn.random() < p:\n",
    "                A[i][j] = 1\n",
    "                A[j][i] = 1\n",
    "    return A"
   ]
  },
  {
   "cell_type": "code",
   "execution_count": 8,
   "id": "41dda1dc",
   "metadata": {},
   "outputs": [],
   "source": [
    "# Given a matrix, we wont to extract only the symmetric, and non-zero components, i.e. aij > 0 such that aji = aij\n",
    "# we are assuming aij = 0,1 only\n",
    "\n",
    "def symmetric_components(matrix):\n",
    "    # First, we select its upper and lower triangles\n",
    "    Au = np.triu(matrix)\n",
    "    Al = np.tril(matrix)\n",
    "    # We now transpose Al\n",
    "    AlT = np.transpose(Al)\n",
    "    # we now only retain non-zero components in Au that are non-zero also in AlT\n",
    "    Su = np.multiply(Au,AlT) # this is the element-wise product\n",
    "    # we now build the result\n",
    "    As = Su + np.transpose(Su)\n",
    "    return As"
   ]
  },
  {
   "cell_type": "markdown",
   "id": "8b072de4",
   "metadata": {},
   "source": [
    "## Triad 6"
   ]
  },
  {
   "cell_type": "code",
   "execution_count": 15,
   "id": "6d063ede",
   "metadata": {},
   "outputs": [],
   "source": [
    "def triad_6(matrix):\n",
    "    A = matrix\n",
    "    As = symmetric_components(A)\n",
    "    As2 = lin.matrix_power(As, 2)\n",
    "    t6 = (np.sum(As2)-np.trace(As2))/2\n",
    "    return t6"
   ]
  },
  {
   "cell_type": "markdown",
   "id": "08daf499",
   "metadata": {},
   "source": [
    "## Triad 11"
   ]
  },
  {
   "cell_type": "code",
   "execution_count": 10,
   "id": "3c7505e1",
   "metadata": {},
   "outputs": [],
   "source": [
    "def triad_11(matrix):\n",
    "    A = matrix\n",
    "    As = symmetric_components(A)\n",
    "    A2 = lin.matrix_power(A, 2)\n",
    "    t11 = np.sum(np.multiply(A2,As))\n",
    "    return t11"
   ]
  },
  {
   "cell_type": "markdown",
   "id": "a0de6d49",
   "metadata": {},
   "source": [
    "## Triad 12"
   ]
  },
  {
   "cell_type": "code",
   "execution_count": 11,
   "id": "92e2af4a",
   "metadata": {},
   "outputs": [],
   "source": [
    "def triad_12(matrix):\n",
    "    A = matrix\n",
    "    As = symmetric_components(A)\n",
    "    As2 = lin.matrix_power(As, 2)\n",
    "    t12 = np.sum(np.multiply(As2,A))\n",
    "    return t12"
   ]
  },
  {
   "cell_type": "markdown",
   "id": "0ba78941",
   "metadata": {},
   "source": [
    "## Triad 13"
   ]
  },
  {
   "cell_type": "code",
   "execution_count": 12,
   "id": "f421dc5f",
   "metadata": {},
   "outputs": [],
   "source": [
    "def triad_13(matrix):\n",
    "    A = matrix\n",
    "    As = symmetric_components(A)\n",
    "    As3 = lin.matrix_power(As, 3)\n",
    "    t13 = np.trace(As3)/6\n",
    "    return t13"
   ]
  },
  {
   "cell_type": "markdown",
   "id": "b181b05d",
   "metadata": {},
   "source": [
    "## Examples"
   ]
  },
  {
   "cell_type": "code",
   "execution_count": 29,
   "id": "d476d616",
   "metadata": {},
   "outputs": [],
   "source": [
    "#example\n",
    "\n",
    "A = [\n",
    "    [0,1,1],\n",
    "    [1,0,1],\n",
    "    [1,1,0],\n",
    "]"
   ]
  },
  {
   "cell_type": "code",
   "execution_count": 30,
   "id": "a2bcfdc8",
   "metadata": {},
   "outputs": [],
   "source": [
    "#A = ER_adj_matrix(300,.9)"
   ]
  },
  {
   "cell_type": "code",
   "execution_count": 31,
   "id": "00c551b7",
   "metadata": {},
   "outputs": [
    {
     "name": "stdout",
     "output_type": "stream",
     "text": [
      "3.0\n",
      "6\n",
      "6\n",
      "1.0\n"
     ]
    }
   ],
   "source": [
    "print(triad_6(A))\n",
    "print(triad_11(A))\n",
    "print(triad_12(A))\n",
    "print(triad_13(A))"
   ]
  },
  {
   "cell_type": "code",
   "execution_count": null,
   "id": "40034e83",
   "metadata": {},
   "outputs": [],
   "source": []
  }
 ],
 "metadata": {
  "kernelspec": {
   "display_name": "Python 3",
   "language": "python",
   "name": "python3"
  },
  "language_info": {
   "codemirror_mode": {
    "name": "ipython",
    "version": 3
   },
   "file_extension": ".py",
   "mimetype": "text/x-python",
   "name": "python",
   "nbconvert_exporter": "python",
   "pygments_lexer": "ipython3",
   "version": "3.9.5"
  }
 },
 "nbformat": 4,
 "nbformat_minor": 5
}
