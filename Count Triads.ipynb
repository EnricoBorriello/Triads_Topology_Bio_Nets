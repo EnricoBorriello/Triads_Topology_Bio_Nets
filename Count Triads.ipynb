{
 "cells": [
  {
   "cell_type": "code",
   "execution_count": 5,
   "id": "d2c63f32",
   "metadata": {},
   "outputs": [],
   "source": [
    "import numpy as np\n",
    "from numpy import linalg as lin\n",
    "import random as rn\n",
    "from pyvis.network import Network\n",
    "\n",
    "import matplotlib.pyplot as plt"
   ]
  },
  {
   "cell_type": "code",
   "execution_count": 6,
   "id": "8cf02586",
   "metadata": {},
   "outputs": [],
   "source": [
    "def ER_adj_matrix(N,p):\n",
    "    A = np.zeros((N,N), dtype=int)\n",
    "    for i in range(N):\n",
    "        for j in range(i):\n",
    "            if rn.random() < p:\n",
    "                A[i][j] = 1\n",
    "                A[j][i] = 1\n",
    "    return A"
   ]
  },
  {
   "cell_type": "code",
   "execution_count": 7,
   "id": "7473a812",
   "metadata": {},
   "outputs": [],
   "source": [
    "#random non symmetric with n, p\n",
    "def random_adj_matrix(N,p):\n",
    "    A = np.zeros((N,N), dtype=int)\n",
    "    for i in range(N):\n",
    "        for j in range(N):\n",
    "            if rn.random() < p and i!=j:\n",
    "                A[i][j] = 1\n",
    "    return A"
   ]
  },
  {
   "cell_type": "code",
   "execution_count": 8,
   "id": "41dda1dc",
   "metadata": {},
   "outputs": [],
   "source": [
    "# Given a matrix, we wont to extract only the symmetric, and non-zero components, i.e. aij > 0 such that aji = aij\n",
    "# we are assuming aij = 0,1 only\n",
    "\n",
    "def symmetric_components(matrix):\n",
    "    # First, we select its upper and lower triangles\n",
    "    Au = np.triu(matrix)\n",
    "    Al = np.tril(matrix)\n",
    "    # We now transpose Al\n",
    "    AlT = np.transpose(Al)\n",
    "    # we now only retain non-zero components in Au that are non-zero also in AlT\n",
    "    Su = np.multiply(Au,AlT) # this is the element-wise product\n",
    "    # we now build the result\n",
    "    As = Su + np.transpose(Su)\n",
    "    return As\n",
    "\n",
    "def symmetric_components_v2(matrix):\n",
    "    return np.multiply(A,np.transpose(A))"
   ]
  },
  {
   "cell_type": "markdown",
   "id": "49141fd4",
   "metadata": {},
   "source": [
    "## Triad 1"
   ]
  },
  {
   "cell_type": "code",
   "execution_count": 5,
   "id": "686b20b4",
   "metadata": {},
   "outputs": [],
   "source": [
    "def triad_1(matrix):\n",
    "    A = matrix\n",
    "    AT = np.transpose(A)\n",
    "    ATA = np.dot(AT,A)\n",
    "    t1 = (np.sum(ATA) - np.trace(ATA))/2\n",
    "    return t1"
   ]
  },
  {
   "cell_type": "markdown",
   "id": "ee1c3c13",
   "metadata": {},
   "source": [
    "## Triad 2"
   ]
  },
  {
   "cell_type": "code",
   "execution_count": 6,
   "id": "1e971b27",
   "metadata": {},
   "outputs": [],
   "source": [
    "def triad_2(matrix):\n",
    "    A = matrix\n",
    "    AT = np.transpose(A)\n",
    "    AAT = np.dot(A,AT)\n",
    "    t2 = (np.sum(AAT) - np.trace(AAT))/2\n",
    "    return t2"
   ]
  },
  {
   "cell_type": "markdown",
   "id": "77b3cc07",
   "metadata": {},
   "source": [
    "## Triad 3"
   ]
  },
  {
   "cell_type": "code",
   "execution_count": 7,
   "id": "8697cf12",
   "metadata": {},
   "outputs": [],
   "source": [
    "def triad_3(matrix):\n",
    "    A = matrix\n",
    "    A2 = lin.matrix_power(A, 2)\n",
    "    t3 = np.sum(A2)-np.trace(A2)\n",
    "    return t3"
   ]
  },
  {
   "cell_type": "markdown",
   "id": "3b67787d",
   "metadata": {},
   "source": [
    "## Triad 4"
   ]
  },
  {
   "cell_type": "code",
   "execution_count": 8,
   "id": "75b5d25b",
   "metadata": {},
   "outputs": [],
   "source": [
    "def triad_4(matrix):\n",
    "    A = matrix\n",
    "    A2 = lin.matrix_power(A, 2)\n",
    "    D2 = np.diag(np.diag(A2))\n",
    "    As = symmetric_components(A)\n",
    "    t4 = np.sum(np.dot(A,D2)-As)\n",
    "    return t4"
   ]
  },
  {
   "cell_type": "markdown",
   "id": "fff58950",
   "metadata": {},
   "source": [
    "## Triad 5"
   ]
  },
  {
   "cell_type": "code",
   "execution_count": 9,
   "id": "21e8de07",
   "metadata": {},
   "outputs": [],
   "source": [
    "def triad_5(matrix):\n",
    "    A = matrix\n",
    "    AT = np.transpose(A)\n",
    "    A2 = lin.matrix_power(A, 2)\n",
    "    D2 = np.diag(np.diag(A2))\n",
    "    As = symmetric_components(A)\n",
    "    t5 = np.sum(np.dot(AT,D2)-As)\n",
    "    return t5"
   ]
  },
  {
   "cell_type": "markdown",
   "id": "4bb82866",
   "metadata": {},
   "source": [
    "## Triad 6"
   ]
  },
  {
   "cell_type": "code",
   "execution_count": 10,
   "id": "9ef2d229",
   "metadata": {},
   "outputs": [],
   "source": [
    "def triad_6(matrix):\n",
    "    A = matrix\n",
    "    A2 = lin.matrix_power(A, 2)\n",
    "    D2 = np.diag(np.diag(A2))\n",
    "    As = symmetric_components(A)\n",
    "    As2 = lin.matrix_power(As, 2)\n",
    "    t6 = np.sum(As2-D2)/2\n",
    "    return t6"
   ]
  },
  {
   "cell_type": "markdown",
   "id": "13cdd150",
   "metadata": {},
   "source": [
    "## Triad 7"
   ]
  },
  {
   "cell_type": "code",
   "execution_count": 11,
   "id": "35d7a4fb",
   "metadata": {},
   "outputs": [],
   "source": [
    "def triad_7(matrix):\n",
    "    A = matrix\n",
    "    A2 = lin.matrix_power(A, 2)\n",
    "    t7 = np.sum(np.multiply(A2,A))\n",
    "    return t7"
   ]
  },
  {
   "cell_type": "markdown",
   "id": "f07fcbb2",
   "metadata": {},
   "source": [
    "## Triad 8"
   ]
  },
  {
   "cell_type": "code",
   "execution_count": 12,
   "id": "43d771f9",
   "metadata": {},
   "outputs": [],
   "source": [
    "def triad_8(matrix):\n",
    "    A = matrix\n",
    "    A3 = lin.matrix_power(A, 3)\n",
    "    D3 = np.diag(np.diag(A3))\n",
    "    t8 = np.sum(D3)/3\n",
    "    return t8"
   ]
  },
  {
   "cell_type": "markdown",
   "id": "14da5b60",
   "metadata": {},
   "source": [
    "## Triad 9"
   ]
  },
  {
   "cell_type": "code",
   "execution_count": 13,
   "id": "c8e891ed",
   "metadata": {},
   "outputs": [],
   "source": [
    "def triad_9(matrix):\n",
    "    A = matrix\n",
    "    AT = np.transpose(A)\n",
    "    ATA = np.dot(AT,A)\n",
    "    As = symmetric_components(A)\n",
    "    t9 = np.sum((  np.multiply( ATA , As   )) )/2\n",
    "    return t9"
   ]
  },
  {
   "cell_type": "markdown",
   "id": "13791d8e",
   "metadata": {},
   "source": [
    "## Triad 10"
   ]
  },
  {
   "cell_type": "code",
   "execution_count": 14,
   "id": "2704ca5e",
   "metadata": {},
   "outputs": [],
   "source": [
    "def triad_10(matrix):\n",
    "    A = matrix\n",
    "    AT = np.transpose(A)\n",
    "    AAT = np.dot(A,AT)\n",
    "    As = symmetric_components(A)\n",
    "    t10 = np.sum((  np.multiply( AAT , As)   ) )/2\n",
    "    return t10"
   ]
  },
  {
   "cell_type": "markdown",
   "id": "08daf499",
   "metadata": {},
   "source": [
    "## Triad 11"
   ]
  },
  {
   "cell_type": "code",
   "execution_count": 15,
   "id": "3c7505e1",
   "metadata": {},
   "outputs": [],
   "source": [
    "def triad_11(matrix):\n",
    "    A = matrix\n",
    "    As = symmetric_components(A)\n",
    "    A2 = lin.matrix_power(A, 2)\n",
    "    t11 = np.sum(np.multiply(A2,As))\n",
    "    return t11"
   ]
  },
  {
   "cell_type": "markdown",
   "id": "a0de6d49",
   "metadata": {},
   "source": [
    "## Triad 12"
   ]
  },
  {
   "cell_type": "code",
   "execution_count": 16,
   "id": "92e2af4a",
   "metadata": {},
   "outputs": [],
   "source": [
    "def triad_12(matrix):\n",
    "    A = matrix\n",
    "    As = symmetric_components(A)\n",
    "    As2 = lin.matrix_power(As, 2)\n",
    "    t12 = np.sum(np.multiply(As2,A))\n",
    "    return t12"
   ]
  },
  {
   "cell_type": "markdown",
   "id": "0ba78941",
   "metadata": {},
   "source": [
    "## Triad 13"
   ]
  },
  {
   "cell_type": "code",
   "execution_count": 17,
   "id": "f421dc5f",
   "metadata": {},
   "outputs": [],
   "source": [
    "def triad_13(matrix):\n",
    "    A = matrix\n",
    "    As = symmetric_components(A)\n",
    "    As3 = lin.matrix_power(As, 3)\n",
    "    t13 = np.trace(As3)/6\n",
    "    return t13"
   ]
  },
  {
   "cell_type": "markdown",
   "id": "af8a3b8a",
   "metadata": {},
   "source": [
    "## Triad Census"
   ]
  },
  {
   "cell_type": "code",
   "execution_count": 45,
   "id": "3a99dd49",
   "metadata": {},
   "outputs": [],
   "source": [
    "import numpy as np\n",
    "from numpy import linalg as lin\n",
    "\n",
    "def triad_census(matrix):\n",
    "    \n",
    "    A   = matrix\n",
    "    At  = np.transpose(A)\n",
    "    AtA = np.dot(At,A)\n",
    "    AAt = np.dot(A,At)    \n",
    "    A2  = lin.matrix_power(A, 2)\n",
    "    D2  = np.diag(np.diag(A2))\n",
    "    As  = np.multiply(A,np.transpose(A))\n",
    "    As2 = lin.matrix_power(As, 2)    \n",
    "    A3  = lin.matrix_power(A, 3)\n",
    "    D3  = np.diag(np.diag(A3))   \n",
    "    As3 = lin.matrix_power(As, 3)\n",
    "    \n",
    "    t = np.zeros(13) # t[0] is the count for triad 1, etc.\n",
    "    \n",
    "    t[0]  = (np.sum(AtA) - np.trace(AtA))/2\n",
    "    t[1]  = (np.sum(AAt) - np.trace(AAt))/2\n",
    "    t[2]  = np.sum(A2)-np.trace(A2)\n",
    "    t[3]  = np.sum(np.dot(A,D2)-As)\n",
    "    t[4]  = np.sum(np.dot(At,D2)-As)\n",
    "    t[5]  = (np.sum(As2)-np.trace(As2))/2\n",
    "    t[6]  = np.sum(np.multiply(A2,A))\n",
    "    t[7]  = np.sum(D3)/3\n",
    "    t[8]  = np.sum((np.multiply(AtA,As)))/2\n",
    "    t[9]  = np.sum((np.multiply(AAt,As)))/2\n",
    "    t[10] = np.sum(np.multiply(A2,As))\n",
    "    t[11] = np.sum(np.multiply(As2,A))\n",
    "    t[12] = np.trace(As3)/6\n",
    "    \n",
    "    return t.astype(int)"
   ]
  },
  {
   "cell_type": "markdown",
   "id": "b181b05d",
   "metadata": {},
   "source": [
    "## Examples"
   ]
  },
  {
   "cell_type": "code",
   "execution_count": 46,
   "id": "d476d616",
   "metadata": {},
   "outputs": [
    {
     "data": {
      "text/plain": [
       "array([3, 5, 8, 8, 6, 3, 6, 2, 3, 3, 6, 6, 1])"
      ]
     },
     "execution_count": 46,
     "metadata": {},
     "output_type": "execute_result"
    }
   ],
   "source": [
    "#example\n",
    "\n",
    "A = [\n",
    "    [0,1,1,0],\n",
    "    [1,0,1,0],\n",
    "    [1,1,0,0],\n",
    "    [0,1,0,0],\n",
    "]\n",
    "\n",
    "Tp = triad_census(A)\n",
    "Tp"
   ]
  },
  {
   "cell_type": "code",
   "execution_count": 47,
   "id": "7b7903af",
   "metadata": {},
   "outputs": [
    {
     "data": {
      "text/plain": [
       "[3, 5, 8, 8, 6, 3, 6, 2, 3, 3, 6, 6, 1]"
      ]
     },
     "execution_count": 47,
     "metadata": {},
     "output_type": "execute_result"
    }
   ],
   "source": [
    "[3, 5, 8, 8, 6, 3, 6, 2, 3, 3, 6, 6, 1]"
   ]
  },
  {
   "cell_type": "code",
   "execution_count": 48,
   "id": "6f20ea74",
   "metadata": {},
   "outputs": [],
   "source": [
    "A = [[0, 1, 0, 0, 1, 0, 0, 1, 0, 0],\n",
    "       [0, 0, 1, 0, 1, 1, 0, 0, 0, 0],\n",
    "       [0, 1, 0, 0, 1, 1, 0, 0, 0, 1],\n",
    "       [1, 0, 0, 0, 1, 1, 0, 1, 1, 1],\n",
    "       [0, 1, 0, 1, 0, 0, 1, 0, 1, 0],\n",
    "       [0, 0, 1, 0, 1, 0, 0, 1, 1, 1],\n",
    "       [1, 1, 0, 1, 0, 1, 0, 1, 0, 0],\n",
    "       [1, 0, 0, 0, 0, 0, 0, 0, 1, 0],\n",
    "       [1, 0, 0, 1, 0, 0, 0, 0, 0, 1],\n",
    "       [0, 0, 1, 0, 1, 1, 0, 0, 0, 0]]"
   ]
  },
  {
   "cell_type": "code",
   "execution_count": 49,
   "id": "1a1bdc47",
   "metadata": {},
   "outputs": [
    {
     "data": {
      "text/plain": [
       "array([ 60,  61, 124,  49,  46,   8,  52,  19,  10,  11,  22,   9,   1])"
      ]
     },
     "execution_count": 49,
     "metadata": {},
     "output_type": "execute_result"
    }
   ],
   "source": [
    "triad_census(A)"
   ]
  },
  {
   "cell_type": "code",
   "execution_count": 50,
   "id": "cf9abd9c",
   "metadata": {},
   "outputs": [
    {
     "data": {
      "text/plain": [
       "[60, 61, 124, 49, 46, 8, 52, 19, 10, 11, 22, 9, 1]"
      ]
     },
     "execution_count": 50,
     "metadata": {},
     "output_type": "execute_result"
    }
   ],
   "source": [
    "[ 60,  61, 124,  49,  46,   8,  52,  19,  10,  11,  22,   9,   1]"
   ]
  },
  {
   "cell_type": "code",
   "execution_count": 51,
   "id": "0752c751",
   "metadata": {},
   "outputs": [
    {
     "name": "stdout",
     "output_type": "stream",
     "text": [
      "[ 89.56  90.38 178.24  84.88  84.38  19.7   90.    29.32  21.2   21.5\n",
      "  42.    19.72   1.46]\n"
     ]
    },
    {
     "data": {
      "image/png": "[encoded data removed]",
      "text/plain": [
       "<Figure size 432x288 with 1 Axes>"
      ]
     },
     "metadata": {
      "needs_background": "light"
     },
     "output_type": "display_data"
    }
   ],
   "source": [
    "m = 50\n",
    "n = len(A)\n",
    "#p = np.sum(A)/(n**2)\n",
    "#n = 10\n",
    "p = .5\n",
    "census = np.zeros(13)\n",
    "for i in range(m):\n",
    "    matrix = random_adj_matrix(n,p)\n",
    "    census = census + triad_census(matrix)\n",
    "avg_census = census/m\n",
    "print(avg_census)\n",
    "t = range(1,14)\n",
    "plt.plot(t,avg_census);"
   ]
  },
  {
   "cell_type": "code",
   "execution_count": 21,
   "id": "eca062c6",
   "metadata": {},
   "outputs": [
    {
     "data": {
      "text/plain": [
       "array([ 1.14503817,  1.8115942 ,  1.38408304,  2.77777778,  2.18978102,\n",
       "        3.57142857,  2.17391304,  1.96078431,  4.05405405,  4.05405405,\n",
       "        3.75      ,  6.25      , 10.        ])"
      ]
     },
     "execution_count": 21,
     "metadata": {},
     "output_type": "execute_result"
    }
   ],
   "source": [
    "Tp/avg_census"
   ]
  },
  {
   "cell_type": "code",
   "execution_count": 22,
   "id": "a2bcfdc8",
   "metadata": {},
   "outputs": [
    {
     "data": {
      "image/png": "[encoded data removed]",
      "text/plain": [
       "<Figure size 432x288 with 1 Axes>"
      ]
     },
     "metadata": {
      "needs_background": "light"
     },
     "output_type": "display_data"
    }
   ],
   "source": [
    "plt.plot(t,Tp/avg_census);"
   ]
  },
  {
   "cell_type": "code",
   "execution_count": 26,
   "id": "41a52d01",
   "metadata": {},
   "outputs": [
    {
     "name": "stdout",
     "output_type": "stream",
     "text": [
      "[[0 1 0 1 0 0 1 1]\n",
      " [1 0 0 1 0 0 1 0]\n",
      " [1 1 0 0 0 0 0 1]\n",
      " [1 1 0 0 0 0 0 0]\n",
      " [1 0 0 0 0 1 1 1]\n",
      " [0 1 0 0 0 0 0 1]\n",
      " [0 0 0 0 0 0 0 1]\n",
      " [0 0 1 1 0 0 0 0]]\n",
      "\n",
      "[21 28 44 20 15  3 17  4  4  4  8  6  1]\n",
      "\n"
     ]
    },
    {
     "data": {
      "image/png": "[encoded data removed]",
      "text/plain": [
       "<Figure size 432x288 with 1 Axes>"
      ]
     },
     "metadata": {
      "needs_background": "light"
     },
     "output_type": "display_data"
    }
   ],
   "source": [
    "matrix = random_adj_matrix(8,.3)\n",
    "census = triad_census(matrix)\n",
    "print(matrix)\n",
    "print('')\n",
    "print(census)\n",
    "print('')\n",
    "plt.plot(t,census);"
   ]
  },
  {
   "cell_type": "code",
   "execution_count": 24,
   "id": "061bb364",
   "metadata": {},
   "outputs": [
    {
     "data": {
      "text/html": [
       "\n",
       "        <iframe\n",
       "            width=\"500px\"\n",
       "            height=\"500px\"\n",
       "            src=\"network.html\"\n",
       "            frameborder=\"0\"\n",
       "            allowfullscreen\n",
       "        ></iframe>\n",
       "        "
      ],
      "text/plain": [
       "<IPython.lib.display.IFrame at 0x7fa8481182b0>"
      ]
     },
     "execution_count": 24,
     "metadata": {},
     "output_type": "execute_result"
    }
   ],
   "source": [
    "g = Network(notebook = True,directed=True)\n",
    "#g.set_options('{\"layout\": {\"randomSeed\":0}}')\n",
    "for i in range(len(matrix)):\n",
    "    g.add_node(i,size=10,color='black')\n",
    "for i in range(len(matrix)):\n",
    "    for j in range(len(matrix)):\n",
    "        if matrix[i][j] == 1:\n",
    "            g.add_edge(i, j)\n",
    "g.show(\"network.html\")"
   ]
  },
  {
   "cell_type": "code",
   "execution_count": 32,
   "id": "970b2b31",
   "metadata": {},
   "outputs": [
    {
     "data": {
      "text/plain": [
       "[21, 28, 44, 20, 15, 3, 17, 4, 4, 4, 8, 6, 1]"
      ]
     },
     "execution_count": 32,
     "metadata": {},
     "output_type": "execute_result"
    }
   ],
   "source": [
    "#matrix I sent to Shade\n",
    "\n",
    "[[0, 1, 0, 1, 0, 0, 1, 1],\n",
    "[1, 0, 0, 1, 0, 0, 1, 0],\n",
    "[1, 1, 0, 0, 0, 0, 0, 1],\n",
    "[1, 1, 0, 0, 0, 0, 0, 0],\n",
    "[1, 0, 0, 0, 0, 1, 1, 1],\n",
    "[0, 1, 0, 0, 0, 0, 0, 1],\n",
    "[0, 0, 0, 0, 0, 0, 0, 1],\n",
    "[0, 0, 1, 1, 0, 0, 0, 0]]\n",
    "\n",
    "# My triad counts\n",
    "[21, 28, 44, 20, 15,  3, 17,  4,  4,  4,  8,  6,  1]"
   ]
  }
 ],
 "metadata": {
  "kernelspec": {
   "display_name": "Python 3",
   "language": "python",
   "name": "python3"
  },
  "language_info": {
   "codemirror_mode": {
    "name": "ipython",
    "version": 3
   },
   "file_extension": ".py",
   "mimetype": "text/x-python",
   "name": "python",
   "nbconvert_exporter": "python",
   "pygments_lexer": "ipython3",
   "version": "3.9.0"
  }
 },
 "nbformat": 4,
 "nbformat_minor": 5
}
