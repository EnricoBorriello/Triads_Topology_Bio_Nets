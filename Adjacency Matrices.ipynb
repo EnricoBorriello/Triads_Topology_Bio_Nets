{
 "cells": [
  {
   "cell_type": "code",
   "execution_count": 9,
   "id": "8d122684",
   "metadata": {},
   "outputs": [],
   "source": [
    "# UNIX\n",
    "! rm net_names.txt\n",
    "! ls database >> net_names.txt"
   ]
  },
  {
   "cell_type": "code",
   "execution_count": 10,
   "id": "3bd6a896",
   "metadata": {},
   "outputs": [],
   "source": [
    "# NOTES\n",
    "# The input file 'Fanconi anemia and checkpoint recovery.txt'\n",
    "# was fixed manually, because the node 'DSB' is not formatted in a uniform way."
   ]
  },
  {
   "cell_type": "code",
   "execution_count": 11,
   "id": "c24a8059",
   "metadata": {},
   "outputs": [],
   "source": [
    "file = open('net_names.txt')\n",
    "net_names = [name.rstrip() for name in file]"
   ]
  },
  {
   "cell_type": "code",
   "execution_count": 24,
   "id": "9733a2d9",
   "metadata": {},
   "outputs": [],
   "source": [
    "network = 'database/'+net_names[0]\n",
    "\n",
    "file = open(network)\n",
    "file_content = [line.rstrip() for line in file]"
   ]
  },
  {
   "cell_type": "code",
   "execution_count": 25,
   "id": "b98a1b0c",
   "metadata": {},
   "outputs": [
    {
     "data": {
      "text/plain": [
       "67"
      ]
     },
     "execution_count": 25,
     "metadata": {},
     "output_type": "execute_result"
    }
   ],
   "source": [
    "clean_file = [line for line in file_content if line[0]=='#']\n",
    "node_names = clean_file[0][3:].split(' ')\n",
    "input_nodes = [line[2:] for line in clean_file[1:]]\n",
    "n = len(node_names)\n",
    "\n",
    "n"
   ]
  },
  {
   "cell_type": "code",
   "execution_count": 26,
   "id": "b85261cd",
   "metadata": {
    "scrolled": true
   },
   "outputs": [
    {
     "data": {
      "text/plain": [
       "['AKT',\n",
       " 'Apo',\n",
       " 'ATM',\n",
       " 'BAD',\n",
       " 'BAX',\n",
       " 'BCL2',\n",
       " 'Bclxl',\n",
       " 'BID',\n",
       " 'Cas3',\n",
       " 'Cas8',\n",
       " 'Cas9',\n",
       " 'CDK2',\n",
       " 'CDK4',\n",
       " 'CDK6',\n",
       " 'CIAP',\n",
       " 'cJun',\n",
       " 'Cl_PARP',\n",
       " 'CYCD',\n",
       " 'CYCE',\n",
       " 'Cytc',\n",
       " 'DNAdam',\n",
       " 'DNAPK',\n",
       " 'ERK',\n",
       " 'Fas',\n",
       " 'FasL',\n",
       " 'FLIP',\n",
       " 'gp130',\n",
       " 'GROWTH',\n",
       " 'IKK',\n",
       " 'IL6',\n",
       " 'JAK1',\n",
       " 'JAK2',\n",
       " 'JNK',\n",
       " 'MAPK',\n",
       " 'MDM',\n",
       " 'MEK1',\n",
       " 'MEKK',\n",
       " 'MEKK2',\n",
       " 'MITO',\n",
       " 'MKK4',\n",
       " 'MYC',\n",
       " 'NIK',\n",
       " 'p21',\n",
       " 'p27',\n",
       " 'p53',\n",
       " 'PI3K',\n",
       " 'pIKB',\n",
       " 'PIP3',\n",
       " 'pNFKB',\n",
       " 'pRB',\n",
       " 'Prot',\n",
       " 'pSTAT3',\n",
       " 'PTEN',\n",
       " 'RAC',\n",
       " 'RAF',\n",
       " 'RAS',\n",
       " 'RIP',\n",
       " 'Smac',\n",
       " 'STAT3',\n",
       " 'STRESS',\n",
       " 'TRAF3',\n",
       " 'XIAP',\n",
       " 'X',\n",
       " 'SHP1',\n",
       " 'TNFA',\n",
       " 'Bort',\n",
       " 'TNFAR']"
      ]
     },
     "execution_count": 26,
     "metadata": {},
     "output_type": "execute_result"
    }
   ],
   "source": [
    "node_names"
   ]
  },
  {
   "cell_type": "code",
   "execution_count": 27,
   "id": "c00aab38",
   "metadata": {},
   "outputs": [],
   "source": [
    "sorted_node_names = list(sorted(node_names, key = len, reverse = True))"
   ]
  },
  {
   "cell_type": "markdown",
   "id": "4de3d92e",
   "metadata": {},
   "source": [
    "We are sorting the node names according to their length, and in reverse order, \n",
    "because some names might be included in other names (e.g. IL2 in IL21).\n",
    "By replacing IL2 with a number, e.g. 5,  we would turn IL21 into 21"
   ]
  },
  {
   "cell_type": "code",
   "execution_count": 28,
   "id": "699ade84",
   "metadata": {},
   "outputs": [
    {
     "data": {
      "text/plain": [
       "['AKT (PIP3, AKT)',\n",
       " 'Apo (Cl_PARP, Apo)',\n",
       " 'ATM (Cas3, DNAdam, ATM)',\n",
       " 'BAD (AKT, BAD)',\n",
       " 'BAX (BCL2, BID, Bclxl, p53, BAX)',\n",
       " 'BCL2 (BAD, p53, pNFKB, pSTAT3, BCL2)',\n",
       " 'Bclxl (BAD, BAX, p53, pNFKB, pSTAT3, Bclxl)',\n",
       " 'BID (BCL2, Bclxl, Cas8, Fas, STRESS, BID)',\n",
       " 'Cas3 (Cas8, Cas9, XIAP, Cas3)',\n",
       " 'Cas8 (FLIP, Fas, FasL, Cas8)',\n",
       " 'Cas9 (AKT, Cytc, XIAP, Cas9)',\n",
       " 'CDK2 (CYCE, p21, CDK2)',\n",
       " 'CDK4 (CYCD, p21, p27, CDK4)',\n",
       " 'CDK6 (CYCD, CDK6)',\n",
       " 'CIAP (TNFAR, CIAP)',\n",
       " 'cJun (JNK, cJun)',\n",
       " 'Cl_PARP (Cas3, Cl_PARP)',\n",
       " 'CYCD (AKT, ERK, MYC, CYCD)',\n",
       " 'CYCE (MYC, CYCE)',\n",
       " 'Cytc (MITO, Cytc)',\n",
       " 'DNAdam (Cas3, STRESS, DNAdam)',\n",
       " 'DNAPK (ATM, DNAPK)',\n",
       " 'ERK (MAPK, ERK)',\n",
       " 'Fas (FasL, p53, Fas)',\n",
       " 'FasL (Fas, cJun, FasL)',\n",
       " 'FLIP (pNFKB, FLIP)',\n",
       " 'gp130 (Cas3, gp130)',\n",
       " 'GROWTH (pRB, GROWTH)',\n",
       " 'IKK (AKT, NIK, RIP, IKK)',\n",
       " 'IL6 (pNFKB, IL6)',\n",
       " 'JAK1 (IL6, SHP1, gp130, JAK1)',\n",
       " 'JAK2 (IL6, SHP1, gp130, JAK2)',\n",
       " 'JNK (MKK4, Prot, JNK)',\n",
       " 'MAPK (MEK1, MAPK)',\n",
       " 'MDM (AKT, ATM, p53, MDM)',\n",
       " 'MEK1 (RAF, MEK1)',\n",
       " 'MEKK (MEK1, MEKK)',\n",
       " 'MEKK2 (RAC, MEKK2)',\n",
       " 'MITO (BAX, MITO)',\n",
       " 'MKK4 (MEKK2, MKK4)',\n",
       " 'MYC (ERK, MEKK, pSTAT3, MYC)',\n",
       " 'NIK (TRAF3, NIK)',\n",
       " 'p21 (AKT, CDK4, MDM, MYC, p53, p21)',\n",
       " 'p27 (AKT, CDK4, MYC, p53, p27)',\n",
       " 'p53 (DNAPK, JNK, MDM, Prot, p53)',\n",
       " 'PI3K (IL6, gp130, PI3K)',\n",
       " 'pIKB (IKK, pIKB)',\n",
       " 'PIP3 (PIP3, PTEN, PIP3)',\n",
       " 'pNFKB (Prot, X, pIKB, pSTAT3, pNFKB)',\n",
       " 'pRB (CDK2, CDK4, CDK6, pRB)',\n",
       " 'Prot (Bort, Prot)',\n",
       " 'pSTAT3 (IKK, JAK1, JAK2, JNK, STAT3, pSTAT3)',\n",
       " 'PTEN (p53, PTEN)',\n",
       " 'RAC (STRESS, RAC)',\n",
       " 'RAF (RAS, RAF)',\n",
       " 'RAS (IL6, SHP1, gp130, RAS)',\n",
       " 'RIP (Bort, TNFA, TNFAR, RIP)',\n",
       " 'Smac (MITO, Smac)',\n",
       " 'STAT3 (Cas3, STAT3)',\n",
       " 'STRESS (DNAdam, Prot, STRESS)',\n",
       " 'TRAF3 (CIAP, TRAF3)',\n",
       " 'XIAP (Smac, p53, pNFKB, pSTAT3, XIAP)']"
      ]
     },
     "execution_count": 28,
     "metadata": {},
     "output_type": "execute_result"
    }
   ],
   "source": [
    "input_nodes"
   ]
  },
  {
   "cell_type": "code",
   "execution_count": 29,
   "id": "071740f3",
   "metadata": {},
   "outputs": [],
   "source": [
    "input_nodes_labels = []\n",
    "\n",
    "for line in input_nodes:\n",
    "    for i in range(n):\n",
    "        line = line.replace(sorted_node_names[i],str(i))\n",
    "    input_nodes_labels.append(line)"
   ]
  },
  {
   "cell_type": "code",
   "execution_count": 30,
   "id": "08001823",
   "metadata": {},
   "outputs": [
    {
     "data": {
      "text/plain": [
       "['44 (36, 44)',\n",
       " '45 (0, 45)',\n",
       " '46 (14, 1, 46)',\n",
       " '47 (44, 47)',\n",
       " '48 (13, 49, 5, 60, 48)',\n",
       " '13 (47, 60, 9, 3, 13)',\n",
       " '5 (47, 48, 60, 9, 3, 5)',\n",
       " '49 (13, 5, 15, 51, 4, 49)',\n",
       " '14 (15, 16, 40, 14)',\n",
       " '15 (26, 51, 25, 15)',\n",
       " '16 (44, 24, 40, 16)',\n",
       " '17 (23, 58, 17)',\n",
       " '18 (22, 58, 59, 18)',\n",
       " '19 (22, 19)',\n",
       " '20 (12, 20)',\n",
       " '21 (54, 21)',\n",
       " '0 (14, 0)',\n",
       " '22 (44, 50, 56, 22)',\n",
       " '23 (56, 23)',\n",
       " '24 (32, 24)',\n",
       " '1 (14, 4, 1)',\n",
       " '6 (46, 6)',\n",
       " '50 (29, 50)',\n",
       " '51 (25, 60, 51)',\n",
       " '25 (51, 21, 25)',\n",
       " '26 (9, 26)',\n",
       " '7 (14, 7)',\n",
       " '2 (61, 2)',\n",
       " '52 (44, 57, 65, 52)',\n",
       " '53 (9, 53)',\n",
       " '27 (53, 41, 7, 27)',\n",
       " '28 (53, 41, 7, 28)',\n",
       " '54 (33, 37, 54)',\n",
       " '29 (30, 29)',\n",
       " '55 (44, 46, 60, 55)',\n",
       " '30 (63, 30)',\n",
       " '31 (30, 31)',\n",
       " '8 (62, 8)',\n",
       " '32 (48, 32)',\n",
       " '33 (8, 33)',\n",
       " '56 (50, 31, 3, 56)',\n",
       " '57 (11, 57)',\n",
       " '58 (44, 18, 55, 56, 60, 58)',\n",
       " '59 (44, 18, 56, 60, 59)',\n",
       " '60 (6, 54, 55, 37, 60)',\n",
       " '34 (53, 7, 34)',\n",
       " '35 (52, 35)',\n",
       " '36 (36, 38, 36)',\n",
       " '9 (37, 66, 35, 3, 9)',\n",
       " '61 (17, 18, 19, 61)',\n",
       " '37 (43, 37)',\n",
       " '3 (52, 27, 28, 54, 10, 3)',\n",
       " '38 (60, 38)',\n",
       " '62 (4, 62)',\n",
       " '63 (64, 63)',\n",
       " '64 (53, 41, 7, 64)',\n",
       " '65 (43, 42, 12, 65)',\n",
       " '39 (32, 39)',\n",
       " '10 (14, 10)',\n",
       " '4 (1, 37, 4)',\n",
       " '11 (20, 11)',\n",
       " '40 (39, 60, 9, 3, 40)']"
      ]
     },
     "execution_count": 30,
     "metadata": {},
     "output_type": "execute_result"
    }
   ],
   "source": [
    "input_nodes_labels"
   ]
  },
  {
   "cell_type": "code",
   "execution_count": 31,
   "id": "526e374f",
   "metadata": {},
   "outputs": [],
   "source": [
    "edge_list = []\n",
    "\n",
    "for line in input_nodes_labels:\n",
    "    formatted_line =  line.replace(' ','').replace(')','').split('(')\n",
    "    output = formatted_line[0]\n",
    "    inputs = formatted_line[1].split(',')\n",
    "    for i in inputs:\n",
    "        if i != output: # I'm removing self-loops, as the motif code doesn't account for them\n",
    "            edge_list.append([i,output,'directed',1])\n",
    "#print(edge_list)"
   ]
  },
  {
   "cell_type": "code",
   "execution_count": null,
   "id": "de35e8dd",
   "metadata": {},
   "outputs": [],
   "source": []
  },
  {
   "cell_type": "code",
   "execution_count": 32,
   "id": "4cf6c45a",
   "metadata": {},
   "outputs": [],
   "source": [
    "import networkx as nx\n",
    "import pandas as pd\n",
    "import pyvis\n",
    "from pyvis.network import Network\n",
    "\n",
    "# https://towardsdatascience.com/visualizing-networks-in-python-d70f4cbeb259"
   ]
  },
  {
   "cell_type": "code",
   "execution_count": 33,
   "id": "05933ab2",
   "metadata": {},
   "outputs": [
    {
     "data": {
      "text/html": [
       "<div>\n",
       "<style scoped>\n",
       "    .dataframe tbody tr th:only-of-type {\n",
       "        vertical-align: middle;\n",
       "    }\n",
       "\n",
       "    .dataframe tbody tr th {\n",
       "        vertical-align: top;\n",
       "    }\n",
       "\n",
       "    .dataframe thead th {\n",
       "        text-align: right;\n",
       "    }\n",
       "</style>\n",
       "<table border=\"1\" class=\"dataframe\">\n",
       "  <thead>\n",
       "    <tr style=\"text-align: right;\">\n",
       "      <th></th>\n",
       "      <th>Source</th>\n",
       "      <th>Target</th>\n",
       "      <th>Type</th>\n",
       "      <th>weight</th>\n",
       "    </tr>\n",
       "  </thead>\n",
       "  <tbody>\n",
       "    <tr>\n",
       "      <th>0</th>\n",
       "      <td>36</td>\n",
       "      <td>44</td>\n",
       "      <td>directed</td>\n",
       "      <td>1</td>\n",
       "    </tr>\n",
       "    <tr>\n",
       "      <th>1</th>\n",
       "      <td>0</td>\n",
       "      <td>45</td>\n",
       "      <td>directed</td>\n",
       "      <td>1</td>\n",
       "    </tr>\n",
       "    <tr>\n",
       "      <th>2</th>\n",
       "      <td>14</td>\n",
       "      <td>46</td>\n",
       "      <td>directed</td>\n",
       "      <td>1</td>\n",
       "    </tr>\n",
       "  </tbody>\n",
       "</table>\n",
       "</div>"
      ],
      "text/plain": [
       "  Source Target      Type  weight\n",
       "0     36     44  directed       1\n",
       "1      0     45  directed       1\n",
       "2     14     46  directed       1"
      ]
     },
     "execution_count": 33,
     "metadata": {},
     "output_type": "execute_result"
    }
   ],
   "source": [
    "df = pd.DataFrame(edge_list,columns=['Source','Target','Type','weight'])\n",
    "df[:3]"
   ]
  },
  {
   "cell_type": "code",
   "execution_count": 34,
   "id": "29990bdf",
   "metadata": {},
   "outputs": [],
   "source": [
    "G = nx.from_pandas_edgelist(df,source='Source',target='Target',edge_attr = 'weight')\n",
    "net = Network(notebook = True, directed = True)\n",
    "net.from_nx(G)"
   ]
  },
  {
   "cell_type": "code",
   "execution_count": 35,
   "id": "229995f0",
   "metadata": {},
   "outputs": [
    {
     "data": {
      "text/html": [
       "\n",
       "        <iframe\n",
       "            width=\"500px\"\n",
       "            height=\"500px\"\n",
       "            src=\"example.html\"\n",
       "            frameborder=\"0\"\n",
       "            allowfullscreen\n",
       "        ></iframe>\n",
       "        "
      ],
      "text/plain": [
       "<IPython.lib.display.IFrame at 0x110235520>"
      ]
     },
     "execution_count": 35,
     "metadata": {},
     "output_type": "execute_result"
    }
   ],
   "source": [
    "net.show(\"example.html\")"
   ]
  },
  {
   "cell_type": "code",
   "execution_count": null,
   "id": "b6b6a2ed",
   "metadata": {},
   "outputs": [],
   "source": [
    "# I keep finding zero motifs with Milo's code.\n",
    "# I need to make Shade's code run, and see if the result changes."
   ]
  }
 ],
 "metadata": {
  "kernelspec": {
   "display_name": "Python 3",
   "language": "python",
   "name": "python3"
  },
  "language_info": {
   "codemirror_mode": {
    "name": "ipython",
    "version": 3
   },
   "file_extension": ".py",
   "mimetype": "text/x-python",
   "name": "python",
   "nbconvert_exporter": "python",
   "pygments_lexer": "ipython3",
   "version": "3.9.5"
  }
 },
 "nbformat": 4,
 "nbformat_minor": 5
}
