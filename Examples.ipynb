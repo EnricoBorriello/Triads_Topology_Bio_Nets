{
 "cells": [
  {
   "cell_type": "code",
   "execution_count": 1,
   "id": "b9da8c5f",
   "metadata": {},
   "outputs": [],
   "source": [
    "import numpy as np\n",
    "from numpy import linalg as lin\n",
    "import random as rn\n",
    "from pyvis.network import Network\n",
    "\n",
    "import matplotlib.pyplot as plt"
   ]
  },
  {
   "cell_type": "code",
   "execution_count": 2,
   "id": "39a31652",
   "metadata": {},
   "outputs": [],
   "source": [
    "import triad_utils as tu"
   ]
  },
  {
   "cell_type": "code",
   "execution_count": 3,
   "id": "34ba15b6",
   "metadata": {},
   "outputs": [],
   "source": [
    "matrix = [\n",
    " [0, 1, 0, 1, 0, 0, 1, 1],\n",
    " [1, 0, 0, 1, 0, 0, 1, 0],\n",
    " [1, 1, 0, 0, 0, 0, 0, 1],\n",
    " [1, 1, 0, 0, 0, 0, 0, 0],\n",
    " [1, 0, 0, 0, 0, 1, 1, 1],\n",
    " [0, 1, 0, 0, 0, 0, 0, 1],\n",
    " [0, 0, 0, 0, 0, 0, 0, 1],\n",
    " [0, 0, 1, 1, 0, 0, 0, 0]]\n",
    "\n",
    "d4 = [\n",
    "    [0,1,0,1,1],\n",
    "    [1,0,0,1,0],\n",
    "    [0,1,0,0,1],\n",
    "    [0,0,1,0,0],\n",
    "    [1,1,0,0,0]\n",
    "]\n",
    "\n",
    "A1  = [[0,0,0],[0,0,0],[1,1,0]]\n",
    "A2  = [[0,0,1],[0,0,1],[0,0,0]]\n",
    "A3  = [[0,0,1],[0,0,0],[0,1,0]]\n",
    "A4  = [[0,0,1],[0,0,1],[1,0,0]]\n",
    "A5  = [[0,0,1],[0,0,0],[1,1,0]]\n",
    "A6  = [[0,0,1],[0,0,1],[1,1,0]]\n",
    "A7  = [[0,1,1],[0,0,0],[0,1,0]]\n",
    "A8  = [[0,1,0],[0,0,1],[1,0,0]]\n",
    "A9  = [[0,1,0],[1,0,0],[1,1,0]]\n",
    "A10 = [[0,1,1],[1,0,1],[0,0,0]]\n",
    "A11 = [[0,1,1],[1,0,0],[0,1,0]]\n",
    "A12 = [[0,1,1],[0,0,1],[1,1,0]]\n",
    "A13 = [[0,1,1],[1,0,1],[1,1,0]]"
   ]
  },
  {
   "cell_type": "code",
   "execution_count": 4,
   "id": "73fcebdd",
   "metadata": {},
   "outputs": [
    {
     "data": {
      "text/plain": [
       "array([ 3,  5,  8, 10,  5,  0,  5,  0,  1,  1,  2,  0,  1])"
      ]
     },
     "execution_count": 4,
     "metadata": {},
     "output_type": "execute_result"
    }
   ],
   "source": [
    "tu.triad_census(matrix)"
   ]
  },
  {
   "cell_type": "code",
   "execution_count": 5,
   "id": "24192a93",
   "metadata": {},
   "outputs": [],
   "source": [
    "n_edges = len(tu.edge_list(matrix))\n",
    "random_matrix = tu.randomize(matrix,10*n_edges)"
   ]
  },
  {
   "cell_type": "code",
   "execution_count": 6,
   "id": "0c5e0270",
   "metadata": {},
   "outputs": [
    {
     "data": {
      "text/plain": [
       "array([ 3,  8, 12,  1,  1,  0,  7,  2,  3,  1,  3,  1,  0])"
      ]
     },
     "execution_count": 6,
     "metadata": {},
     "output_type": "execute_result"
    }
   ],
   "source": [
    "tu.triad_census(random_matrix)"
   ]
  },
  {
   "cell_type": "code",
   "execution_count": 7,
   "id": "5343d860",
   "metadata": {},
   "outputs": [
    {
     "data": {
      "text/html": [
       "\n",
       "        <iframe\n",
       "            width=\"500px\"\n",
       "            height=\"500px\"\n",
       "            src=\"network.html\"\n",
       "            frameborder=\"0\"\n",
       "            allowfullscreen\n",
       "        ></iframe>\n",
       "        "
      ],
      "text/plain": [
       "<IPython.lib.display.IFrame at 0x16504a5e0>"
      ]
     },
     "execution_count": 7,
     "metadata": {},
     "output_type": "execute_result"
    }
   ],
   "source": [
    "#A = random_adj_matrix(4,.5)\n",
    "A = d4\n",
    "\n",
    "g = Network(notebook = True, directed=True)\n",
    "\n",
    "for i in range(len(A)):\n",
    "    g.add_node(i,size=10,color='black')\n",
    "for i in range(len(A)):\n",
    "    for j in range(len(A)):\n",
    "        if A[i][j] == 1:\n",
    "            g.add_edge(i, j)\n",
    "g.show(\"network.html\")"
   ]
  },
  {
   "cell_type": "code",
   "execution_count": 8,
   "id": "dbc19cf0",
   "metadata": {},
   "outputs": [
    {
     "name": "stdout",
     "output_type": "stream",
     "text": [
      "triad_census(matrix)\n",
      "random_adj_matrix(N,p)\n",
      "edge_list(adjacency_matrix)\n",
      "adjacency_matrix(edge_list,size)\n",
      "swap_edges(edge_list)\n",
      "randomize(matrix,iterations)\n",
      " functions()\n",
      "\n"
     ]
    }
   ],
   "source": [
    "tu.functions()"
   ]
  },
  {
   "cell_type": "code",
   "execution_count": null,
   "id": "5a71c00a",
   "metadata": {},
   "outputs": [],
   "source": []
  },
  {
   "cell_type": "code",
   "execution_count": null,
   "id": "960314ad",
   "metadata": {},
   "outputs": [],
   "source": []
  }
 ],
 "metadata": {
  "kernelspec": {
   "display_name": "Python 3",
   "language": "python",
   "name": "python3"
  },
  "language_info": {
   "codemirror_mode": {
    "name": "ipython",
    "version": 3
   },
   "file_extension": ".py",
   "mimetype": "text/x-python",
   "name": "python",
   "nbconvert_exporter": "python",
   "pygments_lexer": "ipython3",
   "version": "3.9.5"
  }
 },
 "nbformat": 4,
 "nbformat_minor": 5
}
